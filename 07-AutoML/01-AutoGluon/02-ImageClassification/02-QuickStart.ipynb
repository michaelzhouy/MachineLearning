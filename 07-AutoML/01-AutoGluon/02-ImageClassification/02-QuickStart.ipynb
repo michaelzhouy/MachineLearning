{
 "cells": [
  {
   "cell_type": "code",
   "execution_count": 1,
   "id": "65f6c761",
   "metadata": {
    "ExecuteTime": {
     "end_time": "2021-06-29T14:21:56.419358Z",
     "start_time": "2021-06-29T14:21:52.502229Z"
    }
   },
   "outputs": [
    {
     "name": "stderr",
     "output_type": "stream",
     "text": [
      "/root/anaconda3/lib/python3.6/site-packages/gluoncv/__init__.py:40: UserWarning: Both `mxnet==1.8.0` and `torch==1.9.0+cu102` are installed. You might encounter increased GPU memory footprint if both framework are used at the same time.\n",
      "  warnings.warn(f'Both `mxnet=={mx.__version__}` and `torch=={torch.__version__}` are installed. '\n"
     ]
    }
   ],
   "source": [
    "import autogluon.core as ag\n",
    "from autogluon.vision import ImagePredictor"
   ]
  },
  {
   "cell_type": "code",
   "execution_count": 2,
   "id": "4e8d6609",
   "metadata": {
    "ExecuteTime": {
     "end_time": "2021-06-29T14:21:56.455371Z",
     "start_time": "2021-06-29T14:21:56.421492Z"
    }
   },
   "outputs": [
    {
     "name": "stdout",
     "output_type": "stream",
     "text": [
      "data/\n",
      "├── test/\n",
      "└── train/\n",
      "                                                 image  label\n",
      "0    /root/.gluoncv/datasets/shopee-iet/data/train/...      0\n",
      "1    /root/.gluoncv/datasets/shopee-iet/data/train/...      0\n",
      "2    /root/.gluoncv/datasets/shopee-iet/data/train/...      0\n",
      "3    /root/.gluoncv/datasets/shopee-iet/data/train/...      0\n",
      "4    /root/.gluoncv/datasets/shopee-iet/data/train/...      0\n",
      "..                                                 ...    ...\n",
      "795  /root/.gluoncv/datasets/shopee-iet/data/train/...      3\n",
      "796  /root/.gluoncv/datasets/shopee-iet/data/train/...      3\n",
      "797  /root/.gluoncv/datasets/shopee-iet/data/train/...      3\n",
      "798  /root/.gluoncv/datasets/shopee-iet/data/train/...      3\n",
      "799  /root/.gluoncv/datasets/shopee-iet/data/train/...      3\n",
      "\n",
      "[800 rows x 2 columns]\n"
     ]
    }
   ],
   "source": [
    "train_dataset, _, test_dataset = ImagePredictor.Dataset.from_folders('https://autogluon.s3.amazonaws.com/datasets/shopee-iet.zip')\n",
    "print(train_dataset)"
   ]
  },
  {
   "cell_type": "code",
   "execution_count": 3,
   "id": "038872b9",
   "metadata": {
    "ExecuteTime": {
     "end_time": "2021-06-29T14:23:22.059049Z",
     "start_time": "2021-06-29T14:21:56.457231Z"
    }
   },
   "outputs": [
    {
     "name": "stderr",
     "output_type": "stream",
     "text": [
      "INFO:root:`time_limit=auto` set to `time_limit=7200`.\n",
      "INFO:root:Reset labels to [0, 1, 2, 3]\n",
      "WARNING:gluoncv.auto.tasks.image_classification:The number of requested GPUs is greater than the number of available GPUs.Reduce the number to 7\n",
      "INFO:gluoncv.auto.tasks.image_classification:Randomly split train_data into train[721]/validation[79] splits.\n",
      "INFO:gluoncv.auto.tasks.image_classification:Starting fit without HPO\n",
      "INFO:ImageClassificationEstimator:modified configs(<old> != <new>): {\n",
      "INFO:ImageClassificationEstimator:root.train.batch_size 128 != 16\n",
      "INFO:ImageClassificationEstimator:root.train.num_workers 4 != 56\n",
      "INFO:ImageClassificationEstimator:root.train.rec_train ~/.mxnet/datasets/imagenet/rec/train.rec != auto\n",
      "INFO:ImageClassificationEstimator:root.train.rec_val_idx ~/.mxnet/datasets/imagenet/rec/val.idx != auto\n",
      "INFO:ImageClassificationEstimator:root.train.rec_train_idx ~/.mxnet/datasets/imagenet/rec/train.idx != auto\n",
      "INFO:ImageClassificationEstimator:root.train.data_dir  ~/.mxnet/datasets/imagenet != auto\n",
      "INFO:ImageClassificationEstimator:root.train.rec_val   ~/.mxnet/datasets/imagenet/rec/val.rec != auto\n",
      "INFO:ImageClassificationEstimator:root.train.early_stop_max_value 1.0 != inf\n",
      "INFO:ImageClassificationEstimator:root.train.early_stop_baseline 0.0 != -inf\n",
      "INFO:ImageClassificationEstimator:root.train.lr        0.1 != 0.01\n",
      "INFO:ImageClassificationEstimator:root.train.early_stop_patience -1 != 10\n",
      "INFO:ImageClassificationEstimator:root.train.num_training_samples 1281167 != -1\n",
      "INFO:ImageClassificationEstimator:root.train.epochs    10 != 2\n",
      "INFO:ImageClassificationEstimator:root.gpus            (0,) != (0, 1, 2, 3, 4, 5, 6)\n",
      "INFO:ImageClassificationEstimator:root.img_cls.model   resnet50_v1 != resnet50_v1b\n",
      "INFO:ImageClassificationEstimator:root.valid.num_workers 4 != 56\n",
      "INFO:ImageClassificationEstimator:root.valid.batch_size 128 != 16\n",
      "INFO:ImageClassificationEstimator:}\n",
      "INFO:ImageClassificationEstimator:Saved config to /data_local/notebook/03-ML/01-AutoML/01-AutoGluon/02-ImageClassification/f19f70c8/.trial_0/config.yaml\n",
      "INFO:ImageClassificationEstimator:Start training from [Epoch 0]\n",
      "INFO:ImageClassificationEstimator:[Epoch 0] training: accuracy=0.369444\n",
      "INFO:ImageClassificationEstimator:[Epoch 0] speed: 35 samples/sec\ttime cost: 19.757438\n",
      "INFO:ImageClassificationEstimator:[Epoch 0] validation: top1=0.544304 top5=1.000000\n",
      "INFO:ImageClassificationEstimator:[Epoch 0] Current best top-1: 0.544304 vs previous -inf, saved to /data_local/notebook/03-ML/01-AutoML/01-AutoGluon/02-ImageClassification/f19f70c8/.trial_0/best_checkpoint.pkl\n",
      "INFO:ImageClassificationEstimator:[Epoch 1] training: accuracy=0.451389\n",
      "INFO:ImageClassificationEstimator:[Epoch 1] speed: 44 samples/sec\ttime cost: 15.777740\n",
      "INFO:ImageClassificationEstimator:[Epoch 1] validation: top1=0.620253 top5=1.000000\n",
      "INFO:ImageClassificationEstimator:[Epoch 1] Current best top-1: 0.620253 vs previous 0.544304, saved to /data_local/notebook/03-ML/01-AutoML/01-AutoGluon/02-ImageClassification/f19f70c8/.trial_0/best_checkpoint.pkl\n",
      "INFO:ImageClassificationEstimator:Applying the state from the best checkpoint...\n",
      "INFO:gluoncv.auto.tasks.image_classification:Finished, total runtime is 83.63 s\n",
      "INFO:gluoncv.auto.tasks.image_classification:{ 'best_config': { 'batch_size': 16,\n",
      "                   'dist_ip_addrs': None,\n",
      "                   'early_stop_baseline': -inf,\n",
      "                   'early_stop_max_value': inf,\n",
      "                   'early_stop_patience': 10,\n",
      "                   'epochs': 2,\n",
      "                   'estimator': <class 'gluoncv.auto.estimators.image_classification.image_classification.ImageClassificationEstimator'>,\n",
      "                   'final_fit': False,\n",
      "                   'gpus': [0, 1, 2, 3, 4, 5, 6],\n",
      "                   'log_dir': '/data_local/notebook/03-ML/01-AutoML/01-AutoGluon/02-ImageClassification/f19f70c8',\n",
      "                   'lr': 0.01,\n",
      "                   'model': 'resnet50_v1b',\n",
      "                   'ngpus_per_trial': 8,\n",
      "                   'nthreads_per_trial': 128,\n",
      "                   'num_trials': 1,\n",
      "                   'num_workers': 56,\n",
      "                   'problem_type': 'multiclass',\n",
      "                   'scheduler': 'local',\n",
      "                   'search_strategy': 'random',\n",
      "                   'searcher': 'random',\n",
      "                   'seed': 94,\n",
      "                   'time_limits': 7200,\n",
      "                   'wall_clock_tick': 1624983716.5254936},\n",
      "  'total_time': 52.63265109062195,\n",
      "  'train_acc': 0.4513888888888889,\n",
      "  'valid_acc': 0.620253164556962}\n"
     ]
    },
    {
     "data": {
      "text/plain": [
       "<autogluon.vision.predictor.predictor.ImagePredictor at 0x7f30bdf6e5c0>"
      ]
     },
     "execution_count": 3,
     "metadata": {},
     "output_type": "execute_result"
    }
   ],
   "source": [
    "predictor = ImagePredictor()\n",
    "# since the original dataset does not provide validation split, the `fit` function splits it randomly with 90/10 ratio\n",
    "predictor.fit(train_dataset, hyperparameters={'epochs': 2})  # you can trust the default config, we reduce the # epoch to save some build time"
   ]
  },
  {
   "cell_type": "code",
   "execution_count": 4,
   "id": "65da6aff",
   "metadata": {
    "ExecuteTime": {
     "end_time": "2021-06-29T14:23:22.065006Z",
     "start_time": "2021-06-29T14:23:22.061389Z"
    }
   },
   "outputs": [
    {
     "name": "stdout",
     "output_type": "stream",
     "text": [
      "Top-1 train acc: 0.451, val acc: 0.620\n"
     ]
    }
   ],
   "source": [
    "fit_result = predictor.fit_summary()\n",
    "print('Top-1 train acc: %.3f, val acc: %.3f' %(fit_result['train_acc'], fit_result['valid_acc']))"
   ]
  },
  {
   "cell_type": "code",
   "execution_count": 5,
   "id": "ece655aa",
   "metadata": {
    "ExecuteTime": {
     "end_time": "2021-06-29T14:23:22.935155Z",
     "start_time": "2021-06-29T14:23:22.066422Z"
    }
   },
   "outputs": [
    {
     "name": "stdout",
     "output_type": "stream",
     "text": [
      "0    1\n",
      "Name: label, dtype: int64\n"
     ]
    }
   ],
   "source": [
    "image_path = test_dataset.iloc[0]['image']\n",
    "result = predictor.predict(image_path)\n",
    "print(result)"
   ]
  },
  {
   "cell_type": "code",
   "execution_count": 6,
   "id": "c58a1094",
   "metadata": {
    "ExecuteTime": {
     "end_time": "2021-06-29T14:23:22.984945Z",
     "start_time": "2021-06-29T14:23:22.936848Z"
    }
   },
   "outputs": [
    {
     "name": "stdout",
     "output_type": "stream",
     "text": [
      "          0         1         2         3\n",
      "0  0.144171  0.496033  0.114388  0.245408\n"
     ]
    }
   ],
   "source": [
    "proba = predictor.predict_proba(image_path)\n",
    "print(proba)"
   ]
  },
  {
   "cell_type": "code",
   "execution_count": 7,
   "id": "4444e081",
   "metadata": {
    "ExecuteTime": {
     "end_time": "2021-06-29T14:23:24.197563Z",
     "start_time": "2021-06-29T14:23:22.986464Z"
    }
   },
   "outputs": [
    {
     "name": "stdout",
     "output_type": "stream",
     "text": [
      "0     1\n",
      "1     1\n",
      "2     1\n",
      "3     2\n",
      "4     1\n",
      "     ..\n",
      "75    3\n",
      "76    3\n",
      "77    3\n",
      "78    0\n",
      "79    3\n",
      "Name: label, Length: 80, dtype: int64\n"
     ]
    }
   ],
   "source": [
    "bulk_result = predictor.predict(test_dataset)\n",
    "print(bulk_result)"
   ]
  },
  {
   "cell_type": "code",
   "execution_count": 8,
   "id": "523ffe90",
   "metadata": {
    "ExecuteTime": {
     "end_time": "2021-06-29T14:23:24.332720Z",
     "start_time": "2021-06-29T14:23:24.199849Z"
    }
   },
   "outputs": [
    {
     "name": "stdout",
     "output_type": "stream",
     "text": [
      "                                       image_feature\n",
      "0  [0.0059656673, 0.0, 0.2278668, 0.48162577, 0.3...\n"
     ]
    },
    {
     "name": "stderr",
     "output_type": "stream",
     "text": [
      "/root/anaconda3/lib/python3.6/site-packages/mxnet/gluon/block.py:682: UserWarning: Parameter resnetv1b_dense0_bias, resnetv1b_dense0_weight is not used by any computation. Is this intended?\n",
      "  out = self.forward(*args)\n"
     ]
    }
   ],
   "source": [
    "image_path = test_dataset.iloc[0]['image']\n",
    "feature = predictor.predict_feature(image_path)\n",
    "print(feature)"
   ]
  },
  {
   "cell_type": "code",
   "execution_count": 9,
   "id": "6b77c4ca",
   "metadata": {
    "ExecuteTime": {
     "end_time": "2021-06-29T14:23:33.198014Z",
     "start_time": "2021-06-29T14:23:24.334352Z"
    }
   },
   "outputs": [
    {
     "name": "stdout",
     "output_type": "stream",
     "text": [
      "Top-1 test acc: 0.625\n"
     ]
    }
   ],
   "source": [
    "test_acc, _ = predictor.evaluate(test_dataset)\n",
    "print('Top-1 test acc: %.3f' % test_acc)"
   ]
  },
  {
   "cell_type": "code",
   "execution_count": 10,
   "id": "819373a6",
   "metadata": {
    "ExecuteTime": {
     "end_time": "2021-06-29T14:23:36.261893Z",
     "start_time": "2021-06-29T14:23:33.200183Z"
    }
   },
   "outputs": [
    {
     "name": "stdout",
     "output_type": "stream",
     "text": [
      "0    1\n",
      "Name: label, dtype: int64\n"
     ]
    }
   ],
   "source": [
    "filename = 'predictor.ag'\n",
    "predictor.save(filename)\n",
    "predictor_loaded = ImagePredictor.load(filename)\n",
    "# use predictor_loaded as usual\n",
    "result = predictor_loaded.predict(image_path)\n",
    "print(result)"
   ]
  }
 ],
 "metadata": {
  "kernelspec": {
   "display_name": "Python 3",
   "language": "python",
   "name": "python3"
  },
  "language_info": {
   "codemirror_mode": {
    "name": "ipython",
    "version": 3
   },
   "file_extension": ".py",
   "mimetype": "text/x-python",
   "name": "python",
   "nbconvert_exporter": "python",
   "pygments_lexer": "ipython3",
   "version": "3.6.6"
  },
  "toc": {
   "base_numbering": 1,
   "nav_menu": {},
   "number_sections": true,
   "sideBar": true,
   "skip_h1_title": false,
   "title_cell": "Table of Contents",
   "title_sidebar": "Contents",
   "toc_cell": false,
   "toc_position": {},
   "toc_section_display": true,
   "toc_window_display": false
  }
 },
 "nbformat": 4,
 "nbformat_minor": 5
}
