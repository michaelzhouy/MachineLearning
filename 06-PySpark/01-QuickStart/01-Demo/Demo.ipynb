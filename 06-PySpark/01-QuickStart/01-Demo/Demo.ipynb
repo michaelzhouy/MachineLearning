{
 "cells": [
  {
   "cell_type": "code",
   "execution_count": 1,
   "id": "a4033d3c",
   "metadata": {
    "ExecuteTime": {
     "end_time": "2021-06-19T03:13:56.837985Z",
     "start_time": "2021-06-19T03:13:56.172519Z"
    }
   },
   "outputs": [],
   "source": [
    "from pyspark.sql import SparkSession\n",
    "from pyspark.ml.feature import StringIndexer\n",
    "from pyspark.ml.classification import LogisticRegression\n",
    "from pyspark.ml import Pipeline\n",
    "from pyspark.ml.feature import VectorAssembler\n",
    "from pyspark.ml.evaluation import BinaryClassificationEvaluator\n",
    "from pyspark import SparkContext, SparkConf"
   ]
  },
  {
   "cell_type": "code",
   "execution_count": 2,
   "id": "b61566a4",
   "metadata": {
    "ExecuteTime": {
     "end_time": "2021-06-19T03:14:00.864092Z",
     "start_time": "2021-06-19T03:13:56.842036Z"
    }
   },
   "outputs": [],
   "source": [
    "conf = SparkConf().setAppName(\"Spark_mllearn_example\").setMaster(\"local\")\n",
    "sc = SparkContext(conf=conf)\n",
    "spark = SparkSession.builder.master(\"local\").appName(\"Spark_mllearn_example\").config(\"\", \"\").getOrCreate()"
   ]
  },
  {
   "cell_type": "code",
   "execution_count": 3,
   "id": "daf6a9d7",
   "metadata": {
    "ExecuteTime": {
     "end_time": "2021-06-19T03:14:00.878519Z",
     "start_time": "2021-06-19T03:14:00.873802Z"
    }
   },
   "outputs": [],
   "source": [
    "spark.conf.set('spark.sql.repl.eagerEval.enabled', True)"
   ]
  },
  {
   "cell_type": "code",
   "execution_count": 4,
   "id": "a1141ea5",
   "metadata": {
    "ExecuteTime": {
     "end_time": "2021-06-19T03:14:05.475915Z",
     "start_time": "2021-06-19T03:14:00.880978Z"
    }
   },
   "outputs": [
    {
     "data": {
      "text/html": [
       "<table border='1'>\n",
       "<tr><th>PassengerId</th><th>Survived</th><th>Pclass</th><th>Name</th><th>Sex</th><th>Age</th><th>SibSp</th><th>Parch</th><th>Ticket</th><th>Fare</th><th>Cabin</th><th>Embarked</th></tr>\n",
       "<tr><td>1</td><td>0</td><td>3</td><td>Braund, Mr. Owen ...</td><td>male</td><td>22</td><td>1</td><td>0</td><td>A/5 21171</td><td>7.25</td><td>null</td><td>S</td></tr>\n",
       "<tr><td>2</td><td>1</td><td>1</td><td>Cumings, Mrs. Joh...</td><td>female</td><td>38</td><td>1</td><td>0</td><td>PC 17599</td><td>71.2833</td><td>C85</td><td>C</td></tr>\n",
       "<tr><td>3</td><td>1</td><td>3</td><td>Heikkinen, Miss. ...</td><td>female</td><td>26</td><td>0</td><td>0</td><td>STON/O2. 3101282</td><td>7.925</td><td>null</td><td>S</td></tr>\n",
       "<tr><td>4</td><td>1</td><td>1</td><td>Futrelle, Mrs. Ja...</td><td>female</td><td>35</td><td>1</td><td>0</td><td>113803</td><td>53.1</td><td>C123</td><td>S</td></tr>\n",
       "<tr><td>5</td><td>0</td><td>3</td><td>Allen, Mr. Willia...</td><td>male</td><td>35</td><td>0</td><td>0</td><td>373450</td><td>8.05</td><td>null</td><td>S</td></tr>\n",
       "<tr><td>6</td><td>0</td><td>3</td><td>Moran, Mr. James</td><td>male</td><td>null</td><td>0</td><td>0</td><td>330877</td><td>8.4583</td><td>null</td><td>Q</td></tr>\n",
       "<tr><td>7</td><td>0</td><td>1</td><td>McCarthy, Mr. Tim...</td><td>male</td><td>54</td><td>0</td><td>0</td><td>17463</td><td>51.8625</td><td>E46</td><td>S</td></tr>\n",
       "<tr><td>8</td><td>0</td><td>3</td><td>Palsson, Master. ...</td><td>male</td><td>2</td><td>3</td><td>1</td><td>349909</td><td>21.075</td><td>null</td><td>S</td></tr>\n",
       "<tr><td>9</td><td>1</td><td>3</td><td>Johnson, Mrs. Osc...</td><td>female</td><td>27</td><td>0</td><td>2</td><td>347742</td><td>11.1333</td><td>null</td><td>S</td></tr>\n",
       "<tr><td>10</td><td>1</td><td>2</td><td>Nasser, Mrs. Nich...</td><td>female</td><td>14</td><td>1</td><td>0</td><td>237736</td><td>30.0708</td><td>null</td><td>C</td></tr>\n",
       "<tr><td>11</td><td>1</td><td>3</td><td>Sandstrom, Miss. ...</td><td>female</td><td>4</td><td>1</td><td>1</td><td>PP 9549</td><td>16.7</td><td>G6</td><td>S</td></tr>\n",
       "<tr><td>12</td><td>1</td><td>1</td><td>Bonnell, Miss. El...</td><td>female</td><td>58</td><td>0</td><td>0</td><td>113783</td><td>26.55</td><td>C103</td><td>S</td></tr>\n",
       "<tr><td>13</td><td>0</td><td>3</td><td>Saundercock, Mr. ...</td><td>male</td><td>20</td><td>0</td><td>0</td><td>A/5. 2151</td><td>8.05</td><td>null</td><td>S</td></tr>\n",
       "<tr><td>14</td><td>0</td><td>3</td><td>Andersson, Mr. An...</td><td>male</td><td>39</td><td>1</td><td>5</td><td>347082</td><td>31.275</td><td>null</td><td>S</td></tr>\n",
       "<tr><td>15</td><td>0</td><td>3</td><td>Vestrom, Miss. Hu...</td><td>female</td><td>14</td><td>0</td><td>0</td><td>350406</td><td>7.8542</td><td>null</td><td>S</td></tr>\n",
       "<tr><td>16</td><td>1</td><td>2</td><td>Hewlett, Mrs. (Ma...</td><td>female</td><td>55</td><td>0</td><td>0</td><td>248706</td><td>16</td><td>null</td><td>S</td></tr>\n",
       "<tr><td>17</td><td>0</td><td>3</td><td>Rice, Master. Eugene</td><td>male</td><td>2</td><td>4</td><td>1</td><td>382652</td><td>29.125</td><td>null</td><td>Q</td></tr>\n",
       "<tr><td>18</td><td>1</td><td>2</td><td>Williams, Mr. Cha...</td><td>male</td><td>null</td><td>0</td><td>0</td><td>244373</td><td>13</td><td>null</td><td>S</td></tr>\n",
       "<tr><td>19</td><td>0</td><td>3</td><td>Vander Planke, Mr...</td><td>female</td><td>31</td><td>1</td><td>0</td><td>345763</td><td>18</td><td>null</td><td>S</td></tr>\n",
       "<tr><td>20</td><td>1</td><td>3</td><td>Masselmani, Mrs. ...</td><td>female</td><td>null</td><td>0</td><td>0</td><td>2649</td><td>7.225</td><td>null</td><td>C</td></tr>\n",
       "</table>\n",
       "only showing top 20 rows\n"
      ],
      "text/plain": [
       "+-----------+--------+------+--------------------+------+----+-----+-----+----------------+-------+-----+--------+\n",
       "|PassengerId|Survived|Pclass|                Name|   Sex| Age|SibSp|Parch|          Ticket|   Fare|Cabin|Embarked|\n",
       "+-----------+--------+------+--------------------+------+----+-----+-----+----------------+-------+-----+--------+\n",
       "|          1|       0|     3|Braund, Mr. Owen ...|  male|  22|    1|    0|       A/5 21171|   7.25| null|       S|\n",
       "|          2|       1|     1|Cumings, Mrs. Joh...|female|  38|    1|    0|        PC 17599|71.2833|  C85|       C|\n",
       "|          3|       1|     3|Heikkinen, Miss. ...|female|  26|    0|    0|STON/O2. 3101282|  7.925| null|       S|\n",
       "|          4|       1|     1|Futrelle, Mrs. Ja...|female|  35|    1|    0|          113803|   53.1| C123|       S|\n",
       "|          5|       0|     3|Allen, Mr. Willia...|  male|  35|    0|    0|          373450|   8.05| null|       S|\n",
       "|          6|       0|     3|    Moran, Mr. James|  male|null|    0|    0|          330877| 8.4583| null|       Q|\n",
       "|          7|       0|     1|McCarthy, Mr. Tim...|  male|  54|    0|    0|           17463|51.8625|  E46|       S|\n",
       "|          8|       0|     3|Palsson, Master. ...|  male|   2|    3|    1|          349909| 21.075| null|       S|\n",
       "|          9|       1|     3|Johnson, Mrs. Osc...|female|  27|    0|    2|          347742|11.1333| null|       S|\n",
       "|         10|       1|     2|Nasser, Mrs. Nich...|female|  14|    1|    0|          237736|30.0708| null|       C|\n",
       "|         11|       1|     3|Sandstrom, Miss. ...|female|   4|    1|    1|         PP 9549|   16.7|   G6|       S|\n",
       "|         12|       1|     1|Bonnell, Miss. El...|female|  58|    0|    0|          113783|  26.55| C103|       S|\n",
       "|         13|       0|     3|Saundercock, Mr. ...|  male|  20|    0|    0|       A/5. 2151|   8.05| null|       S|\n",
       "|         14|       0|     3|Andersson, Mr. An...|  male|  39|    1|    5|          347082| 31.275| null|       S|\n",
       "|         15|       0|     3|Vestrom, Miss. Hu...|female|  14|    0|    0|          350406| 7.8542| null|       S|\n",
       "|         16|       1|     2|Hewlett, Mrs. (Ma...|female|  55|    0|    0|          248706|     16| null|       S|\n",
       "|         17|       0|     3|Rice, Master. Eugene|  male|   2|    4|    1|          382652| 29.125| null|       Q|\n",
       "|         18|       1|     2|Williams, Mr. Cha...|  male|null|    0|    0|          244373|     13| null|       S|\n",
       "|         19|       0|     3|Vander Planke, Mr...|female|  31|    1|    0|          345763|     18| null|       S|\n",
       "|         20|       1|     3|Masselmani, Mrs. ...|female|null|    0|    0|            2649|  7.225| null|       C|\n",
       "+-----------+--------+------+--------------------+------+----+-----+-----+----------------+-------+-----+--------+\n",
       "only showing top 20 rows"
      ]
     },
     "execution_count": 4,
     "metadata": {},
     "output_type": "execute_result"
    }
   ],
   "source": [
    "dpath = 'data/Titanic/'\n",
    "df = spark.read.csv(dpath + 'train.csv', header=True)\n",
    "df"
   ]
  },
  {
   "cell_type": "code",
   "execution_count": 5,
   "id": "dd8da972",
   "metadata": {
    "ExecuteTime": {
     "end_time": "2021-06-19T03:14:05.795571Z",
     "start_time": "2021-06-19T03:14:05.479146Z"
    }
   },
   "outputs": [
    {
     "data": {
      "text/html": [
       "<table border='1'>\n",
       "<tr><th>Survived</th><th>Pclass</th><th>SibSp</th><th>Parch</th><th>Fare</th></tr>\n",
       "<tr><td>0</td><td>3</td><td>1</td><td>0</td><td>7.25</td></tr>\n",
       "<tr><td>1</td><td>1</td><td>1</td><td>0</td><td>71.2833</td></tr>\n",
       "<tr><td>1</td><td>3</td><td>0</td><td>0</td><td>7.925</td></tr>\n",
       "<tr><td>1</td><td>1</td><td>1</td><td>0</td><td>53.1</td></tr>\n",
       "<tr><td>0</td><td>3</td><td>0</td><td>0</td><td>8.05</td></tr>\n",
       "<tr><td>0</td><td>3</td><td>0</td><td>0</td><td>8.4583</td></tr>\n",
       "<tr><td>0</td><td>1</td><td>0</td><td>0</td><td>51.8625</td></tr>\n",
       "<tr><td>0</td><td>3</td><td>3</td><td>1</td><td>21.075</td></tr>\n",
       "<tr><td>1</td><td>3</td><td>0</td><td>2</td><td>11.1333</td></tr>\n",
       "<tr><td>1</td><td>2</td><td>1</td><td>0</td><td>30.0708</td></tr>\n",
       "<tr><td>1</td><td>3</td><td>1</td><td>1</td><td>16.7</td></tr>\n",
       "<tr><td>1</td><td>1</td><td>0</td><td>0</td><td>26.55</td></tr>\n",
       "<tr><td>0</td><td>3</td><td>0</td><td>0</td><td>8.05</td></tr>\n",
       "<tr><td>0</td><td>3</td><td>1</td><td>5</td><td>31.275</td></tr>\n",
       "<tr><td>0</td><td>3</td><td>0</td><td>0</td><td>7.8542</td></tr>\n",
       "<tr><td>1</td><td>2</td><td>0</td><td>0</td><td>16</td></tr>\n",
       "<tr><td>0</td><td>3</td><td>4</td><td>1</td><td>29.125</td></tr>\n",
       "<tr><td>1</td><td>2</td><td>0</td><td>0</td><td>13</td></tr>\n",
       "<tr><td>0</td><td>3</td><td>1</td><td>0</td><td>18</td></tr>\n",
       "<tr><td>1</td><td>3</td><td>0</td><td>0</td><td>7.225</td></tr>\n",
       "</table>\n",
       "only showing top 20 rows\n"
      ],
      "text/plain": [
       "+--------+------+-----+-----+-------+\n",
       "|Survived|Pclass|SibSp|Parch|   Fare|\n",
       "+--------+------+-----+-----+-------+\n",
       "|       0|     3|    1|    0|   7.25|\n",
       "|       1|     1|    1|    0|71.2833|\n",
       "|       1|     3|    0|    0|  7.925|\n",
       "|       1|     1|    1|    0|   53.1|\n",
       "|       0|     3|    0|    0|   8.05|\n",
       "|       0|     3|    0|    0| 8.4583|\n",
       "|       0|     1|    0|    0|51.8625|\n",
       "|       0|     3|    3|    1| 21.075|\n",
       "|       1|     3|    0|    2|11.1333|\n",
       "|       1|     2|    1|    0|30.0708|\n",
       "|       1|     3|    1|    1|   16.7|\n",
       "|       1|     1|    0|    0|  26.55|\n",
       "|       0|     3|    0|    0|   8.05|\n",
       "|       0|     3|    1|    5| 31.275|\n",
       "|       0|     3|    0|    0| 7.8542|\n",
       "|       1|     2|    0|    0|     16|\n",
       "|       0|     3|    4|    1| 29.125|\n",
       "|       1|     2|    0|    0|     13|\n",
       "|       0|     3|    1|    0|     18|\n",
       "|       1|     3|    0|    0|  7.225|\n",
       "+--------+------+-----+-----+-------+\n",
       "only showing top 20 rows"
      ]
     },
     "execution_count": 5,
     "metadata": {},
     "output_type": "execute_result"
    }
   ],
   "source": [
    "df = df.select('Survived', 'Pclass', 'SibSp', 'Parch', 'Fare')\n",
    "df"
   ]
  },
  {
   "cell_type": "markdown",
   "id": "fd5bb19d",
   "metadata": {},
   "source": [
    "## 查看每行记录的缺失值"
   ]
  },
  {
   "cell_type": "code",
   "execution_count": 6,
   "id": "c5dd6292",
   "metadata": {
    "ExecuteTime": {
     "end_time": "2021-06-19T03:14:05.799682Z",
     "start_time": "2021-06-19T03:14:05.797566Z"
    }
   },
   "outputs": [],
   "source": [
    "# df.rdd.map(lambda row: (row['PassengerId'], sum([c == None for c in row]))).collect()"
   ]
  },
  {
   "cell_type": "code",
   "execution_count": 7,
   "id": "8343cbe6",
   "metadata": {
    "ExecuteTime": {
     "end_time": "2021-06-19T03:14:05.805726Z",
     "start_time": "2021-06-19T03:14:05.803791Z"
    }
   },
   "outputs": [],
   "source": [
    "# import pyspark.sql.functions as fn\n",
    "# df.agg(*[(1-(fn.count(c) / fn.count('*'))).alias(c+'_missing') for c in df.columns]).show()"
   ]
  },
  {
   "cell_type": "code",
   "execution_count": 8,
   "id": "12dfcd34",
   "metadata": {
    "ExecuteTime": {
     "end_time": "2021-06-19T03:14:06.293503Z",
     "start_time": "2021-06-19T03:14:05.810119Z"
    }
   },
   "outputs": [
    {
     "data": {
      "text/html": [
       "<table border='1'>\n",
       "<tr><th>Survived</th><th>Pclass</th><th>SibSp</th><th>Parch</th><th>Fare</th></tr>\n",
       "<tr><td>0.0</td><td>3.0</td><td>1.0</td><td>0.0</td><td>7.25</td></tr>\n",
       "<tr><td>1.0</td><td>1.0</td><td>1.0</td><td>0.0</td><td>71.2833</td></tr>\n",
       "<tr><td>1.0</td><td>3.0</td><td>0.0</td><td>0.0</td><td>7.925</td></tr>\n",
       "<tr><td>1.0</td><td>1.0</td><td>1.0</td><td>0.0</td><td>53.1</td></tr>\n",
       "<tr><td>0.0</td><td>3.0</td><td>0.0</td><td>0.0</td><td>8.05</td></tr>\n",
       "<tr><td>0.0</td><td>3.0</td><td>0.0</td><td>0.0</td><td>8.4583</td></tr>\n",
       "<tr><td>0.0</td><td>1.0</td><td>0.0</td><td>0.0</td><td>51.8625</td></tr>\n",
       "<tr><td>0.0</td><td>3.0</td><td>3.0</td><td>1.0</td><td>21.075</td></tr>\n",
       "<tr><td>1.0</td><td>3.0</td><td>0.0</td><td>2.0</td><td>11.1333</td></tr>\n",
       "<tr><td>1.0</td><td>2.0</td><td>1.0</td><td>0.0</td><td>30.0708</td></tr>\n",
       "<tr><td>1.0</td><td>3.0</td><td>1.0</td><td>1.0</td><td>16.7</td></tr>\n",
       "<tr><td>1.0</td><td>1.0</td><td>0.0</td><td>0.0</td><td>26.55</td></tr>\n",
       "<tr><td>0.0</td><td>3.0</td><td>0.0</td><td>0.0</td><td>8.05</td></tr>\n",
       "<tr><td>0.0</td><td>3.0</td><td>1.0</td><td>5.0</td><td>31.275</td></tr>\n",
       "<tr><td>0.0</td><td>3.0</td><td>0.0</td><td>0.0</td><td>7.8542</td></tr>\n",
       "<tr><td>1.0</td><td>2.0</td><td>0.0</td><td>0.0</td><td>16.0</td></tr>\n",
       "<tr><td>0.0</td><td>3.0</td><td>4.0</td><td>1.0</td><td>29.125</td></tr>\n",
       "<tr><td>1.0</td><td>2.0</td><td>0.0</td><td>0.0</td><td>13.0</td></tr>\n",
       "<tr><td>0.0</td><td>3.0</td><td>1.0</td><td>0.0</td><td>18.0</td></tr>\n",
       "<tr><td>1.0</td><td>3.0</td><td>0.0</td><td>0.0</td><td>7.225</td></tr>\n",
       "</table>\n",
       "only showing top 20 rows\n"
      ],
      "text/plain": [
       "+--------+------+-----+-----+-------+\n",
       "|Survived|Pclass|SibSp|Parch|   Fare|\n",
       "+--------+------+-----+-----+-------+\n",
       "|     0.0|   3.0|  1.0|  0.0|   7.25|\n",
       "|     1.0|   1.0|  1.0|  0.0|71.2833|\n",
       "|     1.0|   3.0|  0.0|  0.0|  7.925|\n",
       "|     1.0|   1.0|  1.0|  0.0|   53.1|\n",
       "|     0.0|   3.0|  0.0|  0.0|   8.05|\n",
       "|     0.0|   3.0|  0.0|  0.0| 8.4583|\n",
       "|     0.0|   1.0|  0.0|  0.0|51.8625|\n",
       "|     0.0|   3.0|  3.0|  1.0| 21.075|\n",
       "|     1.0|   3.0|  0.0|  2.0|11.1333|\n",
       "|     1.0|   2.0|  1.0|  0.0|30.0708|\n",
       "|     1.0|   3.0|  1.0|  1.0|   16.7|\n",
       "|     1.0|   1.0|  0.0|  0.0|  26.55|\n",
       "|     0.0|   3.0|  0.0|  0.0|   8.05|\n",
       "|     0.0|   3.0|  1.0|  5.0| 31.275|\n",
       "|     0.0|   3.0|  0.0|  0.0| 7.8542|\n",
       "|     1.0|   2.0|  0.0|  0.0|   16.0|\n",
       "|     0.0|   3.0|  4.0|  1.0| 29.125|\n",
       "|     1.0|   2.0|  0.0|  0.0|   13.0|\n",
       "|     0.0|   3.0|  1.0|  0.0|   18.0|\n",
       "|     1.0|   3.0|  0.0|  0.0|  7.225|\n",
       "+--------+------+-----+-----+-------+\n",
       "only showing top 20 rows"
      ]
     },
     "execution_count": 8,
     "metadata": {},
     "output_type": "execute_result"
    }
   ],
   "source": [
    "df = df.withColumn('Survived', df['Survived'].cast('double')) \\\n",
    ".withColumn('Pclass', df['Pclass'].cast('double')) \\\n",
    ".withColumn('SibSp', df['SibSp'].cast('double')) \\\n",
    ".withColumn('Parch', df['Parch'].cast('double')) \\\n",
    ".withColumn('Fare', df['Fare'].cast('double'))\n",
    "df"
   ]
  },
  {
   "cell_type": "code",
   "execution_count": 9,
   "id": "a5ab6e3a",
   "metadata": {
    "ExecuteTime": {
     "end_time": "2021-06-19T03:14:07.905192Z",
     "start_time": "2021-06-19T03:14:06.296144Z"
    }
   },
   "outputs": [
    {
     "name": "stdout",
     "output_type": "stream",
     "text": [
      "+--------+------+-----+-----+-------+--------------------+-----+\n",
      "|Survived|Pclass|SibSp|Parch|   Fare|            features|label|\n",
      "+--------+------+-----+-----+-------+--------------------+-----+\n",
      "|     0.0|   3.0|  1.0|  0.0|   7.25|  [3.0,1.0,0.0,7.25]|  0.0|\n",
      "|     1.0|   1.0|  1.0|  0.0|71.2833|[1.0,1.0,0.0,71.2...|  1.0|\n",
      "|     1.0|   3.0|  0.0|  0.0|  7.925| [3.0,0.0,0.0,7.925]|  1.0|\n",
      "|     1.0|   1.0|  1.0|  0.0|   53.1|  [1.0,1.0,0.0,53.1]|  1.0|\n",
      "|     0.0|   3.0|  0.0|  0.0|   8.05|  [3.0,0.0,0.0,8.05]|  0.0|\n",
      "|     0.0|   3.0|  0.0|  0.0| 8.4583|[3.0,0.0,0.0,8.4583]|  0.0|\n",
      "|     0.0|   1.0|  0.0|  0.0|51.8625|[1.0,0.0,0.0,51.8...|  0.0|\n",
      "|     0.0|   3.0|  3.0|  1.0| 21.075|[3.0,3.0,1.0,21.075]|  0.0|\n",
      "|     1.0|   3.0|  0.0|  2.0|11.1333|[3.0,0.0,2.0,11.1...|  1.0|\n",
      "|     1.0|   2.0|  1.0|  0.0|30.0708|[2.0,1.0,0.0,30.0...|  1.0|\n",
      "+--------+------+-----+-----+-------+--------------------+-----+\n",
      "only showing top 10 rows\n",
      "\n"
     ]
    }
   ],
   "source": [
    "input_cols = ['Pclass', 'SibSp', 'Parch', 'Fare']\n",
    "vecAssembler = VectorAssembler(inputCols=input_cols, outputCol='features')\n",
    "string2Indexer = StringIndexer(inputCol='Survived', outputCol='label')\n",
    "pipeline = Pipeline(stages=[vecAssembler, string2Indexer])\n",
    "pipelineFit = pipeline.fit(df)\n",
    "dataset = pipelineFit.transform(df)\n",
    "dataset.show(10)"
   ]
  },
  {
   "cell_type": "markdown",
   "id": "954324fd",
   "metadata": {},
   "source": [
    "## 划分训练集和测试集"
   ]
  },
  {
   "cell_type": "code",
   "execution_count": 10,
   "id": "bdd37fda",
   "metadata": {
    "ExecuteTime": {
     "end_time": "2021-06-19T03:16:11.288574Z",
     "start_time": "2021-06-19T03:16:10.713082Z"
    }
   },
   "outputs": [
    {
     "name": "stdout",
     "output_type": "stream",
     "text": [
      "Train Dataset Count: 556\n",
      "Test  Dataset Count: 335\n"
     ]
    }
   ],
   "source": [
    "trainData, testData = dataset.randomSplit([0.7, 0.4], 123)\n",
    "print('Train Dataset Count: {}'.format(trainData.count()))\n",
    "print('Test  Dataset Count: {}'.format(testData.count()))"
   ]
  },
  {
   "cell_type": "markdown",
   "id": "b70db7b4",
   "metadata": {},
   "source": [
    "## 模型训练"
   ]
  },
  {
   "cell_type": "code",
   "execution_count": 11,
   "id": "2e09058a",
   "metadata": {
    "ExecuteTime": {
     "end_time": "2021-06-19T03:17:01.615348Z",
     "start_time": "2021-06-19T03:16:59.349827Z"
    }
   },
   "outputs": [],
   "source": [
    "# 模型训练\n",
    "lr = LogisticRegression(maxIter=20, regParam=0.3, elasticNetParam=0)\n",
    "lrModel = lr.fit(trainData)"
   ]
  },
  {
   "cell_type": "code",
   "execution_count": 12,
   "id": "08a83307",
   "metadata": {
    "ExecuteTime": {
     "end_time": "2021-06-19T03:18:04.619754Z",
     "start_time": "2021-06-19T03:18:04.027163Z"
    }
   },
   "outputs": [
    {
     "data": {
      "text/plain": [
       "0.6895991939095386"
      ]
     },
     "execution_count": 12,
     "metadata": {},
     "output_type": "execute_result"
    }
   ],
   "source": [
    "# 模型预测\n",
    "prediction = lrModel.transform(testData)\n",
    "\n",
    "# ROC score\n",
    "evaluator = BinaryClassificationEvaluator()\n",
    "evaluator.evaluate(prediction)"
   ]
  },
  {
   "cell_type": "code",
   "execution_count": 13,
   "id": "7b447837",
   "metadata": {
    "ExecuteTime": {
     "end_time": "2021-06-19T03:26:48.957548Z",
     "start_time": "2021-06-19T03:25:52.824339Z"
    }
   },
   "outputs": [
    {
     "data": {
      "text/plain": [
       "0.6977907150320942"
      ]
     },
     "execution_count": 13,
     "metadata": {},
     "output_type": "execute_result"
    }
   ],
   "source": [
    "# 使用十折交叉验证\n",
    "from pyspark.ml.tuning import ParamGridBuilder, CrossValidator\n",
    "\n",
    "grid = (\n",
    "    ParamGridBuilder()\n",
    "    .addGrid(lr.regParam, [0.1, 0.3, 0.5])\n",
    "    .addGrid(lr.elasticNetParam, [0.0, 0.1, 0.2])\n",
    "    .build()\n",
    ")\n",
    "\n",
    "cv = CrossValidator(\n",
    "    estimator=lr,\n",
    "    estimatorParamMaps=grid,\n",
    "    evaluator=evaluator,\n",
    "    numFolds=10\n",
    ")\n",
    "cvModel = cv.fit(trainData)\n",
    "\n",
    "predictions = cvModel.transform(testData)\n",
    "\n",
    "evaluator = BinaryClassificationEvaluator()\n",
    "evaluator.evaluate(predictions)"
   ]
  },
  {
   "cell_type": "code",
   "execution_count": 16,
   "id": "adeaa57c",
   "metadata": {
    "ExecuteTime": {
     "end_time": "2021-06-19T03:34:23.931108Z",
     "start_time": "2021-06-19T03:32:01.116797Z"
    }
   },
   "outputs": [
    {
     "data": {
      "text/plain": [
       "0.7516606956262128"
      ]
     },
     "execution_count": 16,
     "metadata": {},
     "output_type": "execute_result"
    }
   ],
   "source": [
    "from pyspark.ml.classification import RandomForestClassifier\n",
    "from pyspark.ml.tuning import ParamGridBuilder, CrossValidator\n",
    "\n",
    "rf = RandomForestClassifier(\n",
    "    numTrees=3,\n",
    "    maxDepth=10,\n",
    "    maxBins=30,\n",
    "    labelCol='label',\n",
    "    seed=123\n",
    ")\n",
    "\n",
    "grid = (ParamGridBuilder()\n",
    "        .addGrid(rf.numTrees, [1, 3, 5])\n",
    "        .addGrid(rf.maxDepth, [3, 5, 7, 10])\n",
    "        .addGrid(rf.maxBins, [20, 30, 40])\n",
    "        .build())\n",
    "\n",
    "evaluator = BinaryClassificationEvaluator()\n",
    "cv = CrossValidator(\n",
    "    estimator=rf,\n",
    "    evaluator=evaluator,\n",
    "    estimatorParamMaps=grid,\n",
    "    numFolds=10\n",
    ")\n",
    "cvModel_rf = cv.fit(trainData)\n",
    "predictions = cvModel_rf.transform(testData)\n",
    "evaluator.evaluate(predictions)"
   ]
  }
 ],
 "metadata": {
  "kernelspec": {
   "display_name": "Python 3",
   "language": "python",
   "name": "python3"
  },
  "language_info": {
   "codemirror_mode": {
    "name": "ipython",
    "version": 3
   },
   "file_extension": ".py",
   "mimetype": "text/x-python",
   "name": "python",
   "nbconvert_exporter": "python",
   "pygments_lexer": "ipython3",
   "version": "3.8.8"
  },
  "toc": {
   "base_numbering": 1,
   "nav_menu": {},
   "number_sections": true,
   "sideBar": true,
   "skip_h1_title": false,
   "title_cell": "Table of Contents",
   "title_sidebar": "Contents",
   "toc_cell": false,
   "toc_position": {},
   "toc_section_display": true,
   "toc_window_display": false
  }
 },
 "nbformat": 4,
 "nbformat_minor": 5
}
