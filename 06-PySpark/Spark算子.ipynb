{
 "cells": [
  {
   "cell_type": "code",
   "execution_count": 1,
   "id": "72117d62",
   "metadata": {
    "ExecuteTime": {
     "end_time": "2021-06-18T12:11:36.373729Z",
     "start_time": "2021-06-18T12:11:35.794630Z"
    }
   },
   "outputs": [],
   "source": [
    "from pyspark import SparkConf, SparkContext"
   ]
  },
  {
   "cell_type": "code",
   "execution_count": 2,
   "id": "6e533dbf",
   "metadata": {
    "ExecuteTime": {
     "end_time": "2021-06-18T12:11:40.753118Z",
     "start_time": "2021-06-18T12:11:36.378383Z"
    }
   },
   "outputs": [],
   "source": [
    "conf = SparkConf().setAppName('My App').setMaster('local')\n",
    "sc = SparkContext.getOrCreate(conf=conf) # SparkContext"
   ]
  },
  {
   "cell_type": "markdown",
   "id": "423623a9",
   "metadata": {},
   "source": [
    "## map算子"
   ]
  },
  {
   "cell_type": "code",
   "execution_count": 3,
   "id": "6661b59a",
   "metadata": {
    "ExecuteTime": {
     "end_time": "2021-06-18T12:11:43.031226Z",
     "start_time": "2021-06-18T12:11:40.757470Z"
    }
   },
   "outputs": [
    {
     "name": "stdout",
     "output_type": "stream",
     "text": [
      "[2, 3, 4, 5, 6]\n"
     ]
    }
   ],
   "source": [
    "rdd1 = sc.parallelize([1, 2, 3, 4, 5]).map(lambda x: x + 1)\n",
    "print(rdd1.collect())"
   ]
  },
  {
   "cell_type": "code",
   "execution_count": 4,
   "id": "9f25297d",
   "metadata": {
    "ExecuteTime": {
     "end_time": "2021-06-18T12:11:43.798704Z",
     "start_time": "2021-06-18T12:11:43.036700Z"
    }
   },
   "outputs": [
    {
     "name": "stdout",
     "output_type": "stream",
     "text": [
      "[('dog', 1), ('tiger', 3), ('cat', 2)]\n"
     ]
    }
   ],
   "source": [
    "rdd2 = sc.parallelize(['dog', 'tiger', 'cat', 'tiger', 'tiger', 'cat']).map(lambda x: (x, 1)).reduceByKey(lambda x, y: x + y)\n",
    "print(rdd2.collect())"
   ]
  },
  {
   "cell_type": "markdown",
   "id": "726bf6c1",
   "metadata": {},
   "source": [
    "## flatMap算子"
   ]
  },
  {
   "cell_type": "code",
   "execution_count": 5,
   "id": "c519d7ca",
   "metadata": {
    "ExecuteTime": {
     "end_time": "2021-06-18T12:11:43.858620Z",
     "start_time": "2021-06-18T12:11:43.801650Z"
    }
   },
   "outputs": [
    {
     "name": "stdout",
     "output_type": "stream",
     "text": [
      "['hello', 'world', 'hello', 'python', 'hello', 'spark']\n"
     ]
    }
   ],
   "source": [
    "print(sc.parallelize(['hello world', 'hello python', 'hello spark'])\n",
    "      .flatMap(lambda x: x.split(' '))\n",
    "      .collect())"
   ]
  },
  {
   "cell_type": "code",
   "execution_count": 6,
   "id": "a588ecd1",
   "metadata": {
    "ExecuteTime": {
     "end_time": "2021-06-18T12:11:43.918135Z",
     "start_time": "2021-06-18T12:11:43.861215Z"
    }
   },
   "outputs": [
    {
     "name": "stdout",
     "output_type": "stream",
     "text": [
      "[('hello', 1), ('world', 1), ('hello', 1), ('python', 1), ('hello', 1), ('spark', 1)]\n"
     ]
    }
   ],
   "source": [
    "print(sc.parallelize(['hello world', 'hello python', 'hello spark'])\n",
    "      .flatMap(lambda x: x.split(' ')).map(lambda x: (x, 1))\n",
    "      .collect())"
   ]
  },
  {
   "cell_type": "code",
   "execution_count": 7,
   "id": "7ee71d40",
   "metadata": {
    "ExecuteTime": {
     "end_time": "2021-06-18T12:11:44.056860Z",
     "start_time": "2021-06-18T12:11:43.920474Z"
    }
   },
   "outputs": [
    {
     "name": "stdout",
     "output_type": "stream",
     "text": [
      "[('hello', 3), ('world', 1), ('python', 1), ('spark', 1)]\n"
     ]
    }
   ],
   "source": [
    "print(sc.parallelize(['hello world', 'hello python', 'hello spark'])\n",
    "     .flatMap(lambda x: x.split(' '))\n",
    "     .map(lambda x: (x, 1))\n",
    "     .reduceByKey(lambda x, y: x + y)\n",
    "     .collect())"
   ]
  },
  {
   "cell_type": "markdown",
   "id": "f116d417",
   "metadata": {},
   "source": [
    "## filter算子"
   ]
  },
  {
   "cell_type": "code",
   "execution_count": 8,
   "id": "c2753fc9",
   "metadata": {
    "ExecuteTime": {
     "end_time": "2021-06-18T12:11:44.123924Z",
     "start_time": "2021-06-18T12:11:44.062188Z"
    }
   },
   "outputs": [
    {
     "name": "stdout",
     "output_type": "stream",
     "text": [
      "[5, 6, 7, 8, 9]\n"
     ]
    }
   ],
   "source": [
    "rdd = sc.parallelize([1, 2, 3, 4, 5, 6, 7, 8, 9]).filter(lambda x: x > 4)\n",
    "print(rdd.collect())"
   ]
  },
  {
   "cell_type": "markdown",
   "id": "2f9e9eb9",
   "metadata": {},
   "source": [
    "## groupBy算子"
   ]
  },
  {
   "cell_type": "code",
   "execution_count": 9,
   "id": "92af40c3",
   "metadata": {
    "ExecuteTime": {
     "end_time": "2021-06-18T12:11:44.262645Z",
     "start_time": "2021-06-18T12:11:44.129597Z"
    }
   },
   "outputs": [
    {
     "name": "stdout",
     "output_type": "stream",
     "text": [
      "[{'hello': [1, 1, 1]}, {'world': [1]}, {'python': [1]}, {'spark': [1]}]\n"
     ]
    }
   ],
   "source": [
    "print(sc.parallelize(['hello world', 'hello python', 'hello spark'])\n",
    "      .flatMap(lambda x: x.split(' '))\n",
    "      .map(lambda x: (x, 1))\n",
    "      .groupByKey()\n",
    "      .map(lambda x: {x[0]: list(x[1])})\n",
    "      .collect())"
   ]
  },
  {
   "cell_type": "markdown",
   "id": "ddc7129a",
   "metadata": {},
   "source": [
    "## join算子"
   ]
  },
  {
   "cell_type": "code",
   "execution_count": 10,
   "id": "d2302274",
   "metadata": {
    "ExecuteTime": {
     "end_time": "2021-06-18T12:11:45.050905Z",
     "start_time": "2021-06-18T12:11:44.268896Z"
    }
   },
   "outputs": [
    {
     "name": "stdout",
     "output_type": "stream",
     "text": [
      "a join b:            [('b', (2, 3)), ('a', (1, 2))]\n",
      "a fullOuterJoin b:   [('b', (2, 3)), ('c', (3, None)), ('c', (4, None)), ('a', (1, 2)), ('e', (None, 5))]\n",
      "a leftOuterJoin b:   [('b', (2, 3)), ('c', (3, None)), ('c', (4, None)), ('a', (1, 2))]\n",
      "a rightOuterJoin b:  [('b', (2, 3)), ('a', (1, 2)), ('e', (None, 5))]\n"
     ]
    }
   ],
   "source": [
    "a = sc.parallelize([('a', 1), ('b', 2), ('c', 3), ('c', 4)])\n",
    "b = sc.parallelize([('a', 2), ('b', 3), ('e', 5)])\n",
    "print('a join b:           ', a.join(b).collect())\n",
    "print('a fullOuterJoin b:  ', a.fullOuterJoin(b).collect())\n",
    "print('a leftOuterJoin b:  ', a.leftOuterJoin(b).collect())\n",
    "print('a rightOuterJoin b: ', a.rightOuterJoin(b).collect())"
   ]
  },
  {
   "cell_type": "markdown",
   "id": "8e82d520",
   "metadata": {},
   "source": [
    "## sortByKey算子"
   ]
  },
  {
   "cell_type": "code",
   "execution_count": 11,
   "id": "5069d878",
   "metadata": {
    "ExecuteTime": {
     "end_time": "2021-06-18T12:11:45.208703Z",
     "start_time": "2021-06-18T12:11:45.053974Z"
    }
   },
   "outputs": [
    {
     "name": "stdout",
     "output_type": "stream",
     "text": [
      "[(3, 'hello'), (1, 'world'), (1, 'python'), (1, 'spark')]\n"
     ]
    }
   ],
   "source": [
    "print(sc.parallelize(['hello world', 'hello python', 'hello spark'])\n",
    "      .flatMap(lambda x: x.split(' '))\n",
    "      .map(lambda x: (x, 1))\n",
    "      .reduceByKey(lambda x, y: x + y)\n",
    "      .map(lambda x: (x[1], x[0]))\n",
    "      .collect())"
   ]
  },
  {
   "cell_type": "code",
   "execution_count": 12,
   "id": "404e1831",
   "metadata": {
    "ExecuteTime": {
     "end_time": "2021-06-18T12:11:45.347073Z",
     "start_time": "2021-06-18T12:11:45.218276Z"
    }
   },
   "outputs": [
    {
     "name": "stdout",
     "output_type": "stream",
     "text": [
      "[('hello', 3), ('world', 1), ('python', 1), ('spark', 1)]\n"
     ]
    }
   ],
   "source": [
    "print(sc.parallelize(['hello world', 'hello python', 'hello spark'])\n",
    "      .flatMap(lambda x: x.split(' '))\n",
    "      .map(lambda x: (x, 1))\n",
    "      .reduceByKey(lambda x, y: x + y)\n",
    "      .map(lambda x: (x[1], x[0]))\n",
    "      .sortByKey(False)\n",
    "      .map(lambda x: (x[1], x[0]))\n",
    "      .collect())"
   ]
  },
  {
   "cell_type": "code",
   "execution_count": 13,
   "id": "f56bbd26",
   "metadata": {
    "ExecuteTime": {
     "end_time": "2021-06-18T12:11:45.455972Z",
     "start_time": "2021-06-18T12:11:45.350675Z"
    }
   },
   "outputs": [
    {
     "name": "stdout",
     "output_type": "stream",
     "text": [
      "[('hello', 3), ('world', 1), ('python', 1), ('spark', 1)]\n"
     ]
    }
   ],
   "source": [
    "print(sc.parallelize(['hello world', 'hello python', 'hello spark'])\n",
    "      .flatMap(lambda x: x.split(' '))\n",
    "      .map(lambda x: (x, 1))\n",
    "      .reduceByKey(lambda x, y: x + y)\n",
    "      .map(lambda x: (x[1], x[0])) # 交换位置\n",
    "      .sortByKey(False)\n",
    "      .map(lambda x: (x[1], x[0])) # 再次交换位置, 即还原\n",
    "      .collect())"
   ]
  },
  {
   "cell_type": "markdown",
   "id": "27887ea1",
   "metadata": {},
   "source": [
    "## union & distinct算子"
   ]
  },
  {
   "cell_type": "code",
   "execution_count": 14,
   "id": "c7317ce3",
   "metadata": {
    "ExecuteTime": {
     "end_time": "2021-06-18T12:11:45.510814Z",
     "start_time": "2021-06-18T12:11:45.461834Z"
    }
   },
   "outputs": [
    {
     "name": "stdout",
     "output_type": "stream",
     "text": [
      "[1, 1, 2, 3, 2, 3, 3, 4]\n"
     ]
    }
   ],
   "source": [
    "print(sc.parallelize([1, 1, 2, 3]).union(sc.parallelize([2, 3, 3, 4])).collect())"
   ]
  },
  {
   "cell_type": "code",
   "execution_count": 15,
   "id": "bc55575a",
   "metadata": {
    "ExecuteTime": {
     "end_time": "2021-06-18T12:11:45.614527Z",
     "start_time": "2021-06-18T12:11:45.515306Z"
    }
   },
   "outputs": [
    {
     "name": "stdout",
     "output_type": "stream",
     "text": [
      "[1, 2, 3]\n"
     ]
    }
   ],
   "source": [
    "print(sc.parallelize([1, 1, 2, 3]).distinct().collect())"
   ]
  },
  {
   "cell_type": "markdown",
   "id": "8eb02191",
   "metadata": {},
   "source": [
    "## WordCount"
   ]
  },
  {
   "cell_type": "code",
   "execution_count": 16,
   "id": "7bf67272",
   "metadata": {
    "ExecuteTime": {
     "end_time": "2021-06-18T12:11:46.119811Z",
     "start_time": "2021-06-18T12:11:45.618631Z"
    }
   },
   "outputs": [
    {
     "name": "stdout",
     "output_type": "stream",
     "text": [
      "5 \t 13\n",
      "1 \t 10\n",
      "4 \t 8\n",
      "2 \t 5\n",
      "3 \t 4\n",
      "2005-04-06 \t 3\n",
      "2005-05-13 \t 2\n",
      "2005-12-26 \t 2\n",
      "2004-05-03 \t 2\n",
      "50272 \t 2\n",
      "2004-05-05 \t 2\n",
      "1488844 \t 1\n",
      "2005-09-06 \t 1\n",
      "822109 \t 1\n",
      "885013 \t 1\n",
      "2005-10-19 \t 1\n",
      "30878 \t 1\n",
      "823519 \t 1\n",
      "1422244 \t 1\n",
      "222104 \t 1\n",
      "225013 \t 1\n",
      "2005-10-14 \t 1\n",
      "30272 \t 1\n",
      "223514 \t 1\n",
      "5422244 \t 1\n",
      "222504 \t 1\n",
      "2005-05-55 \t 1\n",
      "225055 \t 1\n",
      "2005-50-54 \t 1\n",
      "2005-52-26 \t 1\n",
      "225554 \t 1\n",
      "2422244 \t 1\n",
      "222204 \t 1\n",
      "2005-05-25 \t 1\n",
      "225025 \t 1\n",
      "2005-20-24 \t 1\n",
      "2005-22-26 \t 1\n",
      "225524 \t 1\n"
     ]
    }
   ],
   "source": [
    "data = sc.textFile('data/')\n",
    "\n",
    "output = data.flatMap(lambda line: line.split(' ')).map(lambda x: (x, 1)).reduceByKey(lambda x, y: x + y).sortBy(lambda line: line[1], False).collect()\n",
    "\n",
    "for word, count in output:\n",
    "    print('{} \\t {}'.format(word, count))"
   ]
  },
  {
   "cell_type": "code",
   "execution_count": 17,
   "id": "a29fab68",
   "metadata": {
    "ExecuteTime": {
     "end_time": "2021-06-18T12:11:46.201164Z",
     "start_time": "2021-06-18T12:11:46.123374Z"
    }
   },
   "outputs": [
    {
     "data": {
      "text/plain": [
       "['1 1488844 3 2005-09-06',\n",
       " '1 822109 5 2005-05-13',\n",
       " '1 885013 4 2005-10-19',\n",
       " '1 30878 4 2005-12-26',\n",
       " '1 823519 3 2004-05-03',\n",
       " '1 1422244 3 2005-04-06',\n",
       " '1 222104 5 2005-05-13',\n",
       " '1 225013 4 2005-10-14',\n",
       " '1 30272 4 2005-12-26',\n",
       " '1 223514 3 2004-05-03',\n",
       " '5 5422244 5 2005-04-06',\n",
       " '5 222504 5 2005-05-55',\n",
       " '5 225055 4 2005-50-54',\n",
       " '5 50272 4 2005-52-26',\n",
       " '5 225554 5 2004-05-05',\n",
       " '2 2422244 5 2005-04-06',\n",
       " '2 222204 5 2005-05-25',\n",
       " '2 225025 4 2005-20-24',\n",
       " '2 50272 4 2005-22-26',\n",
       " '2 225524 5 2004-05-05']"
      ]
     },
     "execution_count": 17,
     "metadata": {},
     "output_type": "execute_result"
    }
   ],
   "source": [
    "data = sc.textFile('data/file.txt')\n",
    "data.collect()"
   ]
  },
  {
   "cell_type": "code",
   "execution_count": 18,
   "id": "8324f03b",
   "metadata": {
    "ExecuteTime": {
     "end_time": "2021-06-18T12:11:46.253885Z",
     "start_time": "2021-06-18T12:11:46.202854Z"
    }
   },
   "outputs": [
    {
     "data": {
      "text/plain": [
       "[['1', '1488844', '3', '2005-09-06'],\n",
       " ['1', '822109', '5', '2005-05-13'],\n",
       " ['1', '885013', '4', '2005-10-19'],\n",
       " ['1', '30878', '4', '2005-12-26'],\n",
       " ['1', '823519', '3', '2004-05-03'],\n",
       " ['1', '1422244', '3', '2005-04-06'],\n",
       " ['1', '222104', '5', '2005-05-13'],\n",
       " ['1', '225013', '4', '2005-10-14'],\n",
       " ['1', '30272', '4', '2005-12-26'],\n",
       " ['1', '223514', '3', '2004-05-03'],\n",
       " ['5', '5422244', '5', '2005-04-06'],\n",
       " ['5', '222504', '5', '2005-05-55'],\n",
       " ['5', '225055', '4', '2005-50-54'],\n",
       " ['5', '50272', '4', '2005-52-26'],\n",
       " ['5', '225554', '5', '2004-05-05'],\n",
       " ['2', '2422244', '5', '2005-04-06'],\n",
       " ['2', '222204', '5', '2005-05-25'],\n",
       " ['2', '225025', '4', '2005-20-24'],\n",
       " ['2', '50272', '4', '2005-22-26'],\n",
       " ['2', '225524', '5', '2004-05-05']]"
      ]
     },
     "execution_count": 18,
     "metadata": {},
     "output_type": "execute_result"
    }
   ],
   "source": [
    "data.map(lambda line: line.split(' ')).collect()"
   ]
  },
  {
   "cell_type": "code",
   "execution_count": 19,
   "id": "91080315",
   "metadata": {
    "ExecuteTime": {
     "end_time": "2021-06-18T12:11:46.433006Z",
     "start_time": "2021-06-18T12:11:46.257340Z"
    }
   },
   "outputs": [
    {
     "name": "stdout",
     "output_type": "stream",
     "text": [
      "[('1', (38, 10)), ('5', (23, 5)), ('2', (23, 5))]\n"
     ]
    }
   ],
   "source": [
    "data = sc.textFile('data/file.txt')\n",
    "print(data \\\n",
    "      .map(lambda line: line.split(' ')) \\\n",
    "      # 只取第1, 3列\n",
    "      .map(lambda line: (line[0], int(line[2]))) \\\n",
    "      .combineByKey((lambda x: (x, 1)),\n",
    "                    (lambda x, y: (x[0] + y, x[1] + 1)),\n",
    "                    (lambda x, y: (x[0] + y[0], x[1] + y[1]))) \\\n",
    "      .collect())"
   ]
  },
  {
   "cell_type": "code",
   "execution_count": 20,
   "id": "c25bc5aa",
   "metadata": {
    "ExecuteTime": {
     "end_time": "2021-06-18T12:11:46.527453Z",
     "start_time": "2021-06-18T12:11:46.436434Z"
    }
   },
   "outputs": [
    {
     "name": "stdout",
     "output_type": "stream",
     "text": [
      "[(('1', 3), 1), (('1', 5), 1), (('1', 4), 1), (('1', 4), 1), (('1', 3), 1), (('1', 3), 1), (('1', 5), 1), (('1', 4), 1), (('1', 4), 1), (('1', 3), 1), (('5', 5), 1), (('5', 5), 1), (('5', 4), 1), (('5', 4), 1), (('5', 5), 1), (('2', 5), 1), (('2', 5), 1), (('2', 4), 1), (('2', 4), 1), (('2', 5), 1)]\n"
     ]
    }
   ],
   "source": [
    "data = sc.textFile('data/file.txt')\n",
    "print(data \\\n",
    "      .map(lambda line: line.split(' ')) \\\n",
    "      # 只取第1, 3列\n",
    "      .map(lambda line: (line[0], int(line[2]))) \\\n",
    "      .map(lambda x: (x, 1))\n",
    "      .collect())"
   ]
  },
  {
   "cell_type": "code",
   "execution_count": 21,
   "id": "c41cd95b",
   "metadata": {
    "ExecuteTime": {
     "end_time": "2021-06-18T12:11:46.709955Z",
     "start_time": "2021-06-18T12:11:46.555358Z"
    }
   },
   "outputs": [
    {
     "name": "stdout",
     "output_type": "stream",
     "text": [
      "{'1': 3.8, '5': 4.6, '2': 4.6}\n"
     ]
    }
   ],
   "source": [
    "data = sc.textFile('data/file.txt')\n",
    "print(data \\\n",
    "      .map(lambda line: line.split(' ')) \\\n",
    "      # 只取第1, 3列\n",
    "      .map(lambda line: (line[0], int(line[2]))) \\\n",
    "      .combineByKey((lambda x: (x, 1)),\n",
    "                    (lambda x, y: (x[0] + y, x[1] + 1)),\n",
    "                    (lambda x, y: (x[0] + y[0], x[1] + y[1]))) \\\n",
    "      .map(lambda line: (line[0], (line[1][0] / line[1][1]))) \\\n",
    "      .collectAsMap())"
   ]
  },
  {
   "cell_type": "code",
   "execution_count": 22,
   "id": "58fe4948",
   "metadata": {
    "ExecuteTime": {
     "end_time": "2021-06-18T12:11:46.835340Z",
     "start_time": "2021-06-18T12:11:46.716174Z"
    }
   },
   "outputs": [
    {
     "name": "stdout",
     "output_type": "stream",
     "text": [
      "{'5': 4.6, '2': 4.6}\n"
     ]
    }
   ],
   "source": [
    "data = sc.textFile('data/file.txt')\n",
    "print(data \\\n",
    "      .map(lambda line: line.split(' ')) \\\n",
    "      # 只取第1, 3列\n",
    "      .map(lambda line: (line[0], int(line[2]))) \\\n",
    "      .combineByKey((lambda x: (x, 1)),\n",
    "                    (lambda x, y: (x[0] + y, x[1] + 1)),\n",
    "                    (lambda x, y: (x[0] + y[0], x[1] + y[1]))) \\\n",
    "      .map(lambda line: (line[0], (line[1][0] / line[1][1]))) \\\n",
    "      .filter(lambda line: line[1] > 4) \\\n",
    "      .collectAsMap())"
   ]
  }
 ],
 "metadata": {
  "kernelspec": {
   "display_name": "Python 3",
   "language": "python",
   "name": "python3"
  },
  "language_info": {
   "codemirror_mode": {
    "name": "ipython",
    "version": 3
   },
   "file_extension": ".py",
   "mimetype": "text/x-python",
   "name": "python",
   "nbconvert_exporter": "python",
   "pygments_lexer": "ipython3",
   "version": "3.8.8"
  },
  "toc": {
   "base_numbering": 1,
   "nav_menu": {},
   "number_sections": true,
   "sideBar": true,
   "skip_h1_title": false,
   "title_cell": "Table of Contents",
   "title_sidebar": "Contents",
   "toc_cell": false,
   "toc_position": {},
   "toc_section_display": true,
   "toc_window_display": false
  }
 },
 "nbformat": 4,
 "nbformat_minor": 5
}
