{
 "cells": [
  {
   "cell_type": "code",
   "execution_count": 1,
   "id": "1edf48c7",
   "metadata": {
    "ExecuteTime": {
     "end_time": "2021-07-02T10:33:45.405741Z",
     "start_time": "2021-07-02T10:33:45.134010Z"
    }
   },
   "outputs": [],
   "source": [
    "import warnings\n",
    "warnings.filterwarnings('ignore')\n",
    "warnings.simplefilter(action='ignore', category=FutureWarning)\n",
    "from pyspark.sql import SparkSession\n",
    "from pyspark.ml.feature import VectorAssembler"
   ]
  },
  {
   "cell_type": "markdown",
   "id": "b91949ae",
   "metadata": {},
   "source": [
    "踩坑:\n",
    "1. 先配置spark, 再import LightGBMClassifier\n",
    "2. config需配置com.microsoft.ml.spark:mmlspark_2.11:1.0.0-rc2, 不然会报asci码错误"
   ]
  },
  {
   "cell_type": "code",
   "execution_count": 2,
   "id": "f50318dc",
   "metadata": {
    "ExecuteTime": {
     "end_time": "2021-07-02T10:33:49.707718Z",
     "start_time": "2021-07-02T10:33:45.407617Z"
    }
   },
   "outputs": [],
   "source": [
    "# com.microsoft.ml.spark:mmlspark_2.11:1.0.0-rc2\n",
    "\n",
    "spark = SparkSession.builder\\\n",
    "    .appName(\"My App\")\\\n",
    "    .master(\"local[4]\")\\\n",
    "    .config(\"spark.jars.packages\", \"com.microsoft.ml.spark:mmlspark_2.11:1.0.0-rc2\")\\\n",
    "    .config(\"spark.jars.repositories\", \"https://mmlspark.azureedge.net/maven\")\\\n",
    "    .getOrCreate()\n",
    "spark.conf.set('spark.sql.repl.eagerEval.enabled', True) # Jupyter查看, 就不需要show()"
   ]
  },
  {
   "cell_type": "markdown",
   "id": "a91ce270",
   "metadata": {},
   "source": [
    "# LightGBM Classifier"
   ]
  },
  {
   "cell_type": "code",
   "execution_count": 3,
   "id": "0ab3d4c3",
   "metadata": {
    "ExecuteTime": {
     "end_time": "2021-07-02T10:33:49.812308Z",
     "start_time": "2021-07-02T10:33:49.710008Z"
    }
   },
   "outputs": [],
   "source": [
    "from mmlspark.lightgbm import LightGBMClassifier"
   ]
  },
  {
   "cell_type": "markdown",
   "id": "895ed5a6",
   "metadata": {},
   "source": [
    "## 数据载入"
   ]
  },
  {
   "cell_type": "markdown",
   "id": "a089dd5f",
   "metadata": {},
   "source": [
    "数据获取, kaggle上的数据\n",
    "\n",
    "https://www.kaggle.com/fedesoriano/company-bankruptcy-prediction"
   ]
  },
  {
   "cell_type": "code",
   "execution_count": 4,
   "id": "145c35ee",
   "metadata": {
    "ExecuteTime": {
     "end_time": "2021-07-02T10:33:55.261295Z",
     "start_time": "2021-07-02T10:33:49.814298Z"
    }
   },
   "outputs": [
    {
     "name": "stdout",
     "output_type": "stream",
     "text": [
      "records read: 6819\n",
      "Schema: \n",
      "root\n",
      " |-- Bankrupt?: integer (nullable = true)\n",
      " |--  ROA(C) before interest and depreciation before interest: double (nullable = true)\n",
      " |--  ROA(A) before interest and % after tax: double (nullable = true)\n",
      " |--  ROA(B) before interest and depreciation after tax: double (nullable = true)\n",
      " |--  Operating Gross Margin: double (nullable = true)\n",
      " |--  Realized Sales Gross Margin: double (nullable = true)\n",
      " |--  Operating Profit Rate: double (nullable = true)\n",
      " |--  Pre-tax net Interest Rate: double (nullable = true)\n",
      " |--  After-tax net Interest Rate: double (nullable = true)\n",
      " |--  Non-industry income and expenditure/revenue: double (nullable = true)\n",
      " |--  Continuous interest rate (after tax): double (nullable = true)\n",
      " |--  Operating Expense Rate: double (nullable = true)\n",
      " |--  Research and development expense rate: double (nullable = true)\n",
      " |--  Cash flow rate: double (nullable = true)\n",
      " |--  Interest-bearing debt interest rate: double (nullable = true)\n",
      " |--  Tax rate (A): double (nullable = true)\n",
      " |--  Net Value Per Share (B): double (nullable = true)\n",
      " |--  Net Value Per Share (A): double (nullable = true)\n",
      " |--  Net Value Per Share (C): double (nullable = true)\n",
      " |--  Persistent EPS in the Last Four Seasons: double (nullable = true)\n",
      " |--  Cash Flow Per Share: double (nullable = true)\n",
      " |--  Revenue Per Share (Yuan ¥): double (nullable = true)\n",
      " |--  Operating Profit Per Share (Yuan ¥): double (nullable = true)\n",
      " |--  Per Share Net profit before tax (Yuan ¥): double (nullable = true)\n",
      " |--  Realized Sales Gross Profit Growth Rate: double (nullable = true)\n",
      " |--  Operating Profit Growth Rate: double (nullable = true)\n",
      " |--  After-tax Net Profit Growth Rate: double (nullable = true)\n",
      " |--  Regular Net Profit Growth Rate: double (nullable = true)\n",
      " |--  Continuous Net Profit Growth Rate: double (nullable = true)\n",
      " |--  Total Asset Growth Rate: double (nullable = true)\n",
      " |--  Net Value Growth Rate: double (nullable = true)\n",
      " |--  Total Asset Return Growth Rate Ratio: double (nullable = true)\n",
      " |--  Cash Reinvestment %: double (nullable = true)\n",
      " |--  Current Ratio: double (nullable = true)\n",
      " |--  Quick Ratio: double (nullable = true)\n",
      " |--  Interest Expense Ratio: double (nullable = true)\n",
      " |--  Total debt/Total net worth: double (nullable = true)\n",
      " |--  Debt ratio %: double (nullable = true)\n",
      " |--  Net worth/Assets: double (nullable = true)\n",
      " |--  Long-term fund suitability ratio (A): double (nullable = true)\n",
      " |--  Borrowing dependency: double (nullable = true)\n",
      " |--  Contingent liabilities/Net worth: double (nullable = true)\n",
      " |--  Operating profit/Paid-in capital: double (nullable = true)\n",
      " |--  Net profit before tax/Paid-in capital: double (nullable = true)\n",
      " |--  Inventory and accounts receivable/Net value: double (nullable = true)\n",
      " |--  Total Asset Turnover: double (nullable = true)\n",
      " |--  Accounts Receivable Turnover: double (nullable = true)\n",
      " |--  Average Collection Days: double (nullable = true)\n",
      " |--  Inventory Turnover Rate (times): double (nullable = true)\n",
      " |--  Fixed Assets Turnover Frequency: double (nullable = true)\n",
      " |--  Net Worth Turnover Rate (times): double (nullable = true)\n",
      " |--  Revenue per person: double (nullable = true)\n",
      " |--  Operating profit per person: double (nullable = true)\n",
      " |--  Allocation rate per person: double (nullable = true)\n",
      " |--  Working Capital to Total Assets: double (nullable = true)\n",
      " |--  Quick Assets/Total Assets: double (nullable = true)\n",
      " |--  Current Assets/Total Assets: double (nullable = true)\n",
      " |--  Cash/Total Assets: double (nullable = true)\n",
      " |--  Quick Assets/Current Liability: double (nullable = true)\n",
      " |--  Cash/Current Liability: double (nullable = true)\n",
      " |--  Current Liability to Assets: double (nullable = true)\n",
      " |--  Operating Funds to Liability: double (nullable = true)\n",
      " |--  Inventory/Working Capital: double (nullable = true)\n",
      " |--  Inventory/Current Liability: double (nullable = true)\n",
      " |--  Current Liabilities/Liability: double (nullable = true)\n",
      " |--  Working Capital/Equity: double (nullable = true)\n",
      " |--  Current Liabilities/Equity: double (nullable = true)\n",
      " |--  Long-term Liability to Current Assets: double (nullable = true)\n",
      " |--  Retained Earnings to Total Assets: double (nullable = true)\n",
      " |--  Total income/Total expense: double (nullable = true)\n",
      " |--  Total expense/Assets: double (nullable = true)\n",
      " |--  Current Asset Turnover Rate: double (nullable = true)\n",
      " |--  Quick Asset Turnover Rate: double (nullable = true)\n",
      " |--  Working capitcal Turnover Rate: double (nullable = true)\n",
      " |--  Cash Turnover Rate: double (nullable = true)\n",
      " |--  Cash Flow to Sales: double (nullable = true)\n",
      " |--  Fixed Assets to Assets: double (nullable = true)\n",
      " |--  Current Liability to Liability: double (nullable = true)\n",
      " |--  Current Liability to Equity: double (nullable = true)\n",
      " |--  Equity to Long-term Liability: double (nullable = true)\n",
      " |--  Cash Flow to Total Assets: double (nullable = true)\n",
      " |--  Cash Flow to Liability: double (nullable = true)\n",
      " |--  CFO to Assets: double (nullable = true)\n",
      " |--  Cash Flow to Equity: double (nullable = true)\n",
      " |--  Current Liability to Current Assets: double (nullable = true)\n",
      " |--  Liability-Assets Flag: integer (nullable = true)\n",
      " |--  Net Income to Total Assets: double (nullable = true)\n",
      " |--  Total assets to GNP price: double (nullable = true)\n",
      " |--  No-credit Interval: double (nullable = true)\n",
      " |--  Gross Profit to Sales: double (nullable = true)\n",
      " |--  Net Income to Stockholder's Equity: double (nullable = true)\n",
      " |--  Liability to Equity: double (nullable = true)\n",
      " |--  Degree of Financial Leverage (DFL): double (nullable = true)\n",
      " |--  Interest Coverage Ratio (Interest expense to EBIT): double (nullable = true)\n",
      " |--  Net Income Flag: integer (nullable = true)\n",
      " |--  Equity to Liability: double (nullable = true)\n",
      "\n"
     ]
    }
   ],
   "source": [
    "df = spark.read.format(\"csv\")\\\n",
    "    .option(\"header\", True)\\\n",
    "    .option(\"inferSchema\", True)\\\n",
    "    .load(\"../data/data.csv\")\n",
    "\n",
    "print(\"records read: \" + str(df.count()))\n",
    "print(\"Schema: \")\n",
    "df.printSchema()"
   ]
  },
  {
   "cell_type": "code",
   "execution_count": 5,
   "id": "f7d811dd",
   "metadata": {
    "ExecuteTime": {
     "end_time": "2021-07-02T10:33:56.077429Z",
     "start_time": "2021-07-02T10:33:55.262944Z"
    }
   },
   "outputs": [
    {
     "data": {
      "text/html": [
       "<table border='1'>\n",
       "<tr><th>Bankrupt?</th><th> ROA(C) before interest and depreciation before interest</th><th> ROA(A) before interest and % after tax</th><th> ROA(B) before interest and depreciation after tax</th><th> Operating Gross Margin</th><th> Realized Sales Gross Margin</th><th> Operating Profit Rate</th><th> Pre-tax net Interest Rate</th><th> After-tax net Interest Rate</th><th> Non-industry income and expenditure/revenue</th><th> Continuous interest rate (after tax)</th><th> Operating Expense Rate</th><th> Research and development expense rate</th><th> Cash flow rate</th><th> Interest-bearing debt interest rate</th><th> Tax rate (A)</th><th> Net Value Per Share (B)</th><th> Net Value Per Share (A)</th><th> Net Value Per Share (C)</th><th> Persistent EPS in the Last Four Seasons</th><th> Cash Flow Per Share</th><th> Revenue Per Share (Yuan ¥)</th><th> Operating Profit Per Share (Yuan ¥)</th><th> Per Share Net profit before tax (Yuan ¥)</th><th> Realized Sales Gross Profit Growth Rate</th><th> Operating Profit Growth Rate</th><th> After-tax Net Profit Growth Rate</th><th> Regular Net Profit Growth Rate</th><th> Continuous Net Profit Growth Rate</th><th> Total Asset Growth Rate</th><th> Net Value Growth Rate</th><th> Total Asset Return Growth Rate Ratio</th><th> Cash Reinvestment %</th><th> Current Ratio</th><th> Quick Ratio</th><th> Interest Expense Ratio</th><th> Total debt/Total net worth</th><th> Debt ratio %</th><th> Net worth/Assets</th><th> Long-term fund suitability ratio (A)</th><th> Borrowing dependency</th><th> Contingent liabilities/Net worth</th><th> Operating profit/Paid-in capital</th><th> Net profit before tax/Paid-in capital</th><th> Inventory and accounts receivable/Net value</th><th> Total Asset Turnover</th><th> Accounts Receivable Turnover</th><th> Average Collection Days</th><th> Inventory Turnover Rate (times)</th><th> Fixed Assets Turnover Frequency</th><th> Net Worth Turnover Rate (times)</th><th> Revenue per person</th><th> Operating profit per person</th><th> Allocation rate per person</th><th> Working Capital to Total Assets</th><th> Quick Assets/Total Assets</th><th> Current Assets/Total Assets</th><th> Cash/Total Assets</th><th> Quick Assets/Current Liability</th><th> Cash/Current Liability</th><th> Current Liability to Assets</th><th> Operating Funds to Liability</th><th> Inventory/Working Capital</th><th> Inventory/Current Liability</th><th> Current Liabilities/Liability</th><th> Working Capital/Equity</th><th> Current Liabilities/Equity</th><th> Long-term Liability to Current Assets</th><th> Retained Earnings to Total Assets</th><th> Total income/Total expense</th><th> Total expense/Assets</th><th> Current Asset Turnover Rate</th><th> Quick Asset Turnover Rate</th><th> Working capitcal Turnover Rate</th><th> Cash Turnover Rate</th><th> Cash Flow to Sales</th><th> Fixed Assets to Assets</th><th> Current Liability to Liability</th><th> Current Liability to Equity</th><th> Equity to Long-term Liability</th><th> Cash Flow to Total Assets</th><th> Cash Flow to Liability</th><th> CFO to Assets</th><th> Cash Flow to Equity</th><th> Current Liability to Current Assets</th><th> Liability-Assets Flag</th><th> Net Income to Total Assets</th><th> Total assets to GNP price</th><th> No-credit Interval</th><th> Gross Profit to Sales</th><th> Net Income to Stockholder&#x27;s Equity</th><th> Liability to Equity</th><th> Degree of Financial Leverage (DFL)</th><th> Interest Coverage Ratio (Interest expense to EBIT)</th><th> Net Income Flag</th><th> Equity to Liability</th></tr>\n",
       "<tr><td>1</td><td>0.370594257300249</td><td>0.424389446140427</td><td>0.40574977247176</td><td>0.601457213277793</td><td>0.601457213277793</td><td>0.998969203197885</td><td>0.796887145860514</td><td>0.808809360876843</td><td>0.302646433889668</td><td>0.780984850207341</td><td>1.25696868875964E-4</td><td>0.0</td><td>0.458143143520965</td><td>7.25072507250725E-4</td><td>0.0</td><td>0.147949938898487</td><td>0.147949938898487</td><td>0.147949938898487</td><td>0.16914058806845</td><td>0.311664426681757</td><td>0.0175597803893099</td><td>0.0959205276443286</td><td>0.138736160277171</td><td>0.0221022783580128</td><td>0.848194994526472</td><td>0.688979462807371</td><td>0.688979462807371</td><td>0.217535386199635</td><td>4.98E9</td><td>3.26977269203033E-4</td><td>0.263099983681843</td><td>0.363725271040572</td><td>0.00225896331056689</td><td>0.00120775508523532</td><td>0.629951302036958</td><td>0.0212659243655332</td><td>0.207576261450555</td><td>0.792423738549445</td><td>0.00502445472861451</td><td>0.390284354359258</td><td>0.00647850248610705</td><td>0.0958848339765825</td><td>0.137757333534424</td><td>0.398035698256887</td><td>0.0869565217391304</td><td>0.00181388412648494</td><td>0.0034873642818412</td><td>1.82092597429571E-4</td><td>1.16500653235806E-4</td><td>0.0329032258064516</td><td>0.0341641819543792</td><td>0.392912869451166</td><td>0.0371353015800987</td><td>0.67277529248986</td><td>0.166672958825266</td><td>0.190642959052727</td><td>0.00409440595228806</td><td>0.00199677086064508</td><td>1.4733602476056E-4</td><td>0.147308450425486</td><td>0.334015171333379</td><td>0.276920158240506</td><td>0.00103598999165807</td><td>0.676269176153092</td><td>0.721274551521743</td><td>0.339077006789355</td><td>0.02559236799775</td><td>0.903224771166726</td><td>0.00202161301202566</td><td>0.064855707690831</td><td>7.01E8</td><td>6.55E9</td><td>0.593830503987655</td><td>4.58E8</td><td>0.6715676535815</td><td>0.424205762216667</td><td>0.676269176153092</td><td>0.339077006789355</td><td>0.126549487816618</td><td>0.637555395323871</td><td>0.458609147666847</td><td>0.52038191789012</td><td>0.312904948119326</td><td>0.11825047660899</td><td>0</td><td>0.716845343217827</td><td>0.00921944002110296</td><td>0.622878959445127</td><td>0.601453290101533</td><td>0.82789021403512</td><td>0.29020189277926</td><td>0.0266006307607414</td><td>0.564050112276341</td><td>1</td><td>0.0164687409123162</td></tr>\n",
       "<tr><td>1</td><td>0.464290937454297</td><td>0.53821412996075</td><td>0.516730017666899</td><td>0.610235085544617</td><td>0.610235085544617</td><td>0.998945978205482</td><td>0.797380191277827</td><td>0.809300725667939</td><td>0.303556430290771</td><td>0.781505974330882</td><td>2.89785053728762E-4</td><td>0.0</td><td>0.461867257156757</td><td>6.47064706470647E-4</td><td>0.0</td><td>0.182251064009102</td><td>0.182251064009102</td><td>0.182251064009102</td><td>0.2089439349532</td><td>0.318136804131004</td><td>0.0211443350424248</td><td>0.0937220096083381</td><td>0.16991790314077</td><td>0.0220801698690499</td><td>0.848087883815147</td><td>0.689692901209989</td><td>0.689701701610895</td><td>0.217619596450422</td><td>6.11E9</td><td>4.430401005442E-4</td><td>0.264515778104141</td><td>0.376709139003763</td><td>0.00601620587767277</td><td>0.00403936682691048</td><td>0.635172463390912</td><td>0.0125023937843679</td><td>0.171176346101521</td><td>0.828823653898479</td><td>0.00505888175404082</td><td>0.376760019951553</td><td>0.0058350394852296</td><td>0.0937433843047209</td><td>0.168961616770983</td><td>0.397724882539793</td><td>0.0644677661169415</td><td>0.00128635630446471</td><td>0.00491680791744408</td><td>9.36E9</td><td>7.19E8</td><td>0.0254838709677419</td><td>0.00688865061762848</td><td>0.39158996856697</td><td>0.0123349721287826</td><td>0.751110917003808</td><td>0.127236002293688</td><td>0.182419054120616</td><td>0.0149477269714099</td><td>0.00413602976079905</td><td>0.00138391008146992</td><td>0.0569628274180797</td><td>0.341105991992958</td><td>0.28964157642601</td><td>0.00520968239954949</td><td>0.30858859304371</td><td>0.731975288512351</td><td>0.329740147869877</td><td>0.0239468186673397</td><td>0.931065217577487</td><td>0.00222560834310179</td><td>0.0255158599950638</td><td>1.06519762790299E-4</td><td>7.7E9</td><td>0.59391554785427</td><td>2.49E9</td><td>0.671569942261066</td><td>0.468828128338473</td><td>0.30858859304371</td><td>0.329740147869877</td><td>0.120916105834965</td><td>0.64109998470196</td><td>0.459001053294128</td><td>0.567101308703163</td><td>0.314163135184666</td><td>0.0477752815903248</td><td>0</td><td>0.795297136043035</td><td>0.00832330179481035</td><td>0.623651741728055</td><td>0.610236525929872</td><td>0.839969268005573</td><td>0.283845979801729</td><td>0.264576819837375</td><td>0.570174946412453</td><td>1</td><td>0.020794306334635</td></tr>\n",
       "<tr><td>1</td><td>0.426071271876371</td><td>0.499018752725687</td><td>0.472295090743616</td><td>0.601450006486113</td><td>0.601363524985947</td><td>0.998857353483229</td><td>0.796403369254357</td><td>0.808387521469543</td><td>0.302035177342951</td><td>0.780283936155909</td><td>2.36129720556318E-4</td><td>2.55E7</td><td>0.458520587470538</td><td>7.9007900790079E-4</td><td>0.0</td><td>0.177910749652353</td><td>0.177910749652353</td><td>0.193712865028865</td><td>0.180580504869056</td><td>0.30710193110278</td><td>0.00594400834883616</td><td>0.0923377575116033</td><td>0.142803344128945</td><td>0.0227600967722855</td><td>0.84809401283004</td><td>0.689462676951537</td><td>0.689469659564714</td><td>0.217601298963609</td><td>7.28E9</td><td>3.96425314703456E-4</td><td>0.264183975569387</td><td>0.368913229760441</td><td>0.0115425536893801</td><td>0.00534756022243655</td><td>0.629631443404885</td><td>0.0212476860084444</td><td>0.207515796474892</td><td>0.792484203525108</td><td>0.00509989941357539</td><td>0.379092920106557</td><td>0.00656198206103149</td><td>0.0923184653215431</td><td>0.148035593092527</td><td>0.406580451031118</td><td>0.0149925037481259</td><td>0.00149533848011119</td><td>0.00422684946011605</td><td>6.5E7</td><td>2.65E9</td><td>0.0133870967741935</td><td>0.0289969595934374</td><td>0.381967843332353</td><td>0.141016311871331</td><td>0.829501914934622</td><td>0.340200878481779</td><td>0.602805701668708</td><td>9.90944451124824E-4</td><td>0.00630248138254708</td><td>5.34E9</td><td>0.0981620645437837</td><td>0.33673149472</td><td>0.277455528130626</td><td>0.0138787857963224</td><td>0"
      ],
      "text/plain": [
       "+---------+--------------------------------------------------------+---------------------------------------+--------------------------------------------------+-----------------------+----------------------------+----------------------+--------------------------+----------------------------+--------------------------------------------+-------------------------------------+-----------------------+--------------------------------------+-----------------+------------------------------------+-------------------+------------------------+------------------------+------------------------+----------------------------------------+--------------------+---------------------------+------------------------------------+-----------------------------------------+----------------------------------------+-----------------------------+---------------------------------+-------------------------------+----------------------------------+------------------------+----------------------+-------------------------------------+--------------------+-------------------+-------------------+-----------------------+---------------------------+------------------+-----------------+-------------------------------------+---------------------+---------------------------------+---------------------------------+--------------------------------------+--------------------------------------------+---------------------+-----------------------------+------------------------+--------------------------------+--------------------------------+--------------------------------+-------------------+----------------------------+---------------------------+--------------------------------+--------------------------+----------------------------+-------------------+-------------------------------+-----------------------+----------------------------+-----------------------------+--------------------------+----------------------------+------------------------------+-----------------------+---------------------------+--------------------------------------+----------------------------------+---------------------------+---------------------+----------------------------+--------------------------+-------------------------------+-------------------+-------------------+-----------------------+-------------------------------+----------------------------+------------------------------+--------------------------+-----------------------+-----------------+--------------------+------------------------------------+----------------------+---------------------------+--------------------------+-------------------+----------------------+-----------------------------------+--------------------+-----------------------------------+---------------------------------------------------+----------------+--------------------+\n",
       "|Bankrupt?| ROA(C) before interest and depreciation before interest| ROA(A) before interest and % after tax| ROA(B) before interest and depreciation after tax| Operating Gross Margin| Realized Sales Gross Margin| Operating Profit Rate| Pre-tax net Interest Rate| After-tax net Interest Rate| Non-industry income and expenditure/revenue| Continuous interest rate (after tax)| Operating Expense Rate| Research and development expense rate|   Cash flow rate| Interest-bearing debt interest rate|       Tax rate (A)| Net Value Per Share (B)| Net Value Per Share (A)| Net Value Per Share (C)| Persistent EPS in the Last Four Seasons| Cash Flow Per Share| Revenue Per Share (Yuan ¥)| Operating Profit Per Share (Yuan ¥)| Per Share Net profit before tax (Yuan ¥)| Realized Sales Gross Profit Growth Rate| Operating Profit Growth Rate| After-tax Net Profit Growth Rate| Regular Net Profit Growth Rate| Continuous Net Profit Growth Rate| Total Asset Growth Rate| Net Value Growth Rate| Total Asset Return Growth Rate Ratio| Cash Reinvestment %|      Current Ratio|        Quick Ratio| Interest Expense Ratio| Total debt/Total net worth|      Debt ratio %| Net worth/Assets| Long-term fund suitability ratio (A)| Borrowing dependency| Contingent liabilities/Net worth| Operating profit/Paid-in capital| Net profit before tax/Paid-in capital| Inventory and accounts receivable/Net value| Total Asset Turnover| Accounts Receivable Turnover| Average Collection Days| Inventory Turnover Rate (times)| Fixed Assets Turnover Frequency| Net Worth Turnover Rate (times)| Revenue per person| Operating profit per person| Allocation rate per person| Working Capital to Total Assets| Quick Assets/Total Assets| Current Assets/Total Assets|  Cash/Total Assets| Quick Assets/Current Liability| Cash/Current Liability| Current Liability to Assets| Operating Funds to Liability| Inventory/Working Capital| Inventory/Current Liability| Current Liabilities/Liability| Working Capital/Equity| Current Liabilities/Equity| Long-term Liability to Current Assets| Retained Earnings to Total Assets| Total income/Total expense| Total expense/Assets| Current Asset Turnover Rate| Quick Asset Turnover Rate| Working capitcal Turnover Rate| Cash Turnover Rate| Cash Flow to Sales| Fixed Assets to Assets| Current Liability to Liability| Current Liability to Equity| Equity to Long-term Liability| Cash Flow to Total Assets| Cash Flow to Liability|    CFO to Assets| Cash Flow to Equity| Current Liability to Current Assets| Liability-Assets Flag| Net Income to Total Assets| Total assets to GNP price| No-credit Interval| Gross Profit to Sales| Net Income to Stockholder's Equity| Liability to Equity| Degree of Financial Leverage (DFL)| Interest Coverage Ratio (Interest expense to EBIT)| Net Income Flag| Equity to Liability|\n",
       "+---------+--------------------------------------------------------+---------------------------------------+--------------------------------------------------+-----------------------+----------------------------+----------------------+--------------------------+----------------------------+--------------------------------------------+-------------------------------------+-----------------------+--------------------------------------+-----------------+------------------------------------+-------------------+------------------------+------------------------+------------------------+----------------------------------------+--------------------+---------------------------+------------------------------------+-----------------------------------------+----------------------------------------+-----------------------------+---------------------------------+-------------------------------+----------------------------------+------------------------+----------------------+-------------------------------------+--------------------+-------------------+-------------------+-----------------------+---------------------------+------------------+-----------------+-------------------------------------+---------------------+---------------------------------+---------------------------------+--------------------------------------+--------------------------------------------+---------------------+-----------------------------+------------------------+--------------------------------+--------------------------------+--------------------------------+-------------------+----------------------------+---------------------------+--------------------------------+--------------------------+----------------------------+-------------------+-------------------------------+-----------------------+----------------------------+-----------------------------+--------------------------+----------------------------+------------------------------+-----------------------+---------------------------+--------------------------------------+----------------------------------+---------------------------+---------------------+----------------------------+--------------------------+-------------------------------+-------------------+-------------------+-----------------------+-------------------------------+----------------------------+------------------------------+--------------------------+-----------------------+-----------------+--------------------+------------------------------------+----------------------+---------------------------+--------------------------+-------------------+----------------------+-----------------------------------+--------------------+-----------------------------------+---------------------------------------------------+----------------+--------------------+\n",
       "|        1|                                       0.370594257300249|                      0.424389446140427|                                  0.40574977247176|      0.601457213277793|           0.601457213277793|     0.998969203197885|         0.796887145860514|           0.808809360876843|                           0.302646433889668|                    0.780984850207341|    1.25696868875964E-4|                                   0.0|0.458143143520965|                 7.25072507250725E-4|                0.0|       0.147949938898487|       0.147949938898487|       0.147949938898487|                        0.16914058806845|   0.311664426681757|         0.0175597803893099|                  0.0959205276443286|                        0.138736160277171|                      0.0221022783580128|            0.848194994526472|                0.688979462807371|              0.688979462807371|                 0.217535386199635|                  4.98E9|   3.26977269203033E-4|                    0.263099983681843|   0.363725271040572|0.00225896331056689|0.00120775508523532|      0.629951302036958|         0.0212659243655332| 0.207576261450555|0.792423738549445|                  0.00502445472861451|    0.390284354359258|              0.00647850248610705|               0.0958848339765825|                     0.137757333534424|                           0.398035698256887|   0.0869565217391304|          0.00181388412648494|      0.0034873642818412|             1.82092597429571E-4|             1.16500653235806E-4|              0.0329032258064516| 0.0341641819543792|           0.392912869451166|         0.037135301580"
      ]
     },
     "execution_count": 5,
     "metadata": {},
     "output_type": "execute_result"
    },
    {
     "data": {
      "text/html": [
       "<b>limit_output extension: Maximum message size of 10000 exceeded with 67032 characters</b>"
      ]
     },
     "metadata": {},
     "output_type": "display_data"
    }
   ],
   "source": [
    "df"
   ]
  },
  {
   "cell_type": "markdown",
   "id": "a502c358",
   "metadata": {},
   "source": [
    "## 划分训练集/测试集"
   ]
  },
  {
   "cell_type": "code",
   "execution_count": 6,
   "id": "72dce80c",
   "metadata": {
    "ExecuteTime": {
     "end_time": "2021-07-02T10:33:56.107542Z",
     "start_time": "2021-07-02T10:33:56.079353Z"
    }
   },
   "outputs": [],
   "source": [
    "train, test = df.randomSplit([0.85, 0.15], seed=1)"
   ]
  },
  {
   "cell_type": "markdown",
   "id": "03238c32",
   "metadata": {},
   "source": [
    "## 转换features"
   ]
  },
  {
   "cell_type": "code",
   "execution_count": 7,
   "id": "6cda4a13",
   "metadata": {
    "ExecuteTime": {
     "end_time": "2021-07-02T10:33:56.452345Z",
     "start_time": "2021-07-02T10:33:56.109149Z"
    }
   },
   "outputs": [],
   "source": [
    "feature_cols = df.columns[1:]\n",
    "featurizer = VectorAssembler(\n",
    "    inputCols=feature_cols,\n",
    "    outputCol='features'\n",
    ")\n",
    "\n",
    "train_data = featurizer.transform(train)['Bankrupt?', 'features']\n",
    "test_data = featurizer.transform(test)['Bankrupt?', 'features']"
   ]
  },
  {
   "cell_type": "markdown",
   "id": "929b3f16",
   "metadata": {},
   "source": [
    "## 查看数据集分布"
   ]
  },
  {
   "cell_type": "code",
   "execution_count": 8,
   "id": "1322733d",
   "metadata": {
    "ExecuteTime": {
     "end_time": "2021-07-02T10:33:58.117694Z",
     "start_time": "2021-07-02T10:33:56.455036Z"
    }
   },
   "outputs": [
    {
     "data": {
      "text/html": [
       "<table border='1'>\n",
       "<tr><th>Bankrupt?</th><th>count</th></tr>\n",
       "<tr><td>1</td><td>181</td></tr>\n",
       "<tr><td>0</td><td>5574</td></tr>\n",
       "</table>\n"
      ],
      "text/plain": [
       "+---------+-----+\n",
       "|Bankrupt?|count|\n",
       "+---------+-----+\n",
       "|        1|  181|\n",
       "|        0| 5574|\n",
       "+---------+-----+"
      ]
     },
     "execution_count": 8,
     "metadata": {},
     "output_type": "execute_result"
    }
   ],
   "source": [
    "train_data.groupBy('Bankrupt?').count()"
   ]
  },
  {
   "cell_type": "markdown",
   "id": "204a9bc9",
   "metadata": {},
   "source": [
    "## 训练"
   ]
  },
  {
   "cell_type": "code",
   "execution_count": 9,
   "id": "1c54cdab",
   "metadata": {
    "ExecuteTime": {
     "end_time": "2021-07-02T10:33:58.156232Z",
     "start_time": "2021-07-02T10:33:58.119643Z"
    }
   },
   "outputs": [],
   "source": [
    "model = LightGBMClassifier(\n",
    "    objective=\"binary\",\n",
    "    featuresCol=\"features\",\n",
    "    labelCol=\"Bankrupt?\",\n",
    "    isUnbalance=True\n",
    ")"
   ]
  },
  {
   "cell_type": "code",
   "execution_count": 10,
   "id": "f057dd7f",
   "metadata": {
    "ExecuteTime": {
     "end_time": "2021-07-02T10:33:58.736685Z",
     "start_time": "2021-07-02T10:33:58.158074Z"
    }
   },
   "outputs": [
    {
     "data": {
      "text/html": [
       "<table border='1'>\n",
       "<tr><th>Bankrupt?</th><th>features</th></tr>\n",
       "<tr><td>0</td><td>[0.0,0.0069232446...</td></tr>\n",
       "<tr><td>0</td><td>[0.08282552527665...</td></tr>\n",
       "<tr><td>0</td><td>[0.23136547555208...</td></tr>\n",
       "<tr><td>0</td><td>[0.23745917223224...</td></tr>\n",
       "<tr><td>0</td><td>[0.24984156388631...</td></tr>\n",
       "<tr><td>0</td><td>[0.26432018719836...</td></tr>\n",
       "<tr><td>0</td><td>[0.26900014624872...</td></tr>\n",
       "<tr><td>0</td><td>[0.28333252084044...</td></tr>\n",
       "<tr><td>0</td><td>[0.30190610832155...</td></tr>\n",
       "<tr><td>0</td><td>[0.32325842148881...</td></tr>\n",
       "<tr><td>0</td><td>[0.32496465655925...</td></tr>\n",
       "<tr><td>0</td><td>[0.32862087456734...</td></tr>\n",
       "<tr><td>0</td><td>[0.33408082679276...</td></tr>\n",
       "<tr><td>0</td><td>[0.33432457465997...</td></tr>\n",
       "<tr><td>0</td><td>[0.33451957295373...</td></tr>\n",
       "<tr><td>0</td><td>[0.33627455759762...</td></tr>\n",
       "<tr><td>0</td><td>[0.33632330717106...</td></tr>\n",
       "<tr><td>0</td><td>[0.33895578413688...</td></tr>\n",
       "<tr><td>0</td><td>[0.34002827475259...</td></tr>\n",
       "<tr><td>0</td><td>[0.34100326622142...</td></tr>\n",
       "</table>\n",
       "only showing top 20 rows\n"
      ],
      "text/plain": [
       "+---------+--------------------+\n",
       "|Bankrupt?|            features|\n",
       "+---------+--------------------+\n",
       "|        0|[0.0,0.0069232446...|\n",
       "|        0|[0.08282552527665...|\n",
       "|        0|[0.23136547555208...|\n",
       "|        0|[0.23745917223224...|\n",
       "|        0|[0.24984156388631...|\n",
       "|        0|[0.26432018719836...|\n",
       "|        0|[0.26900014624872...|\n",
       "|        0|[0.28333252084044...|\n",
       "|        0|[0.30190610832155...|\n",
       "|        0|[0.32325842148881...|\n",
       "|        0|[0.32496465655925...|\n",
       "|        0|[0.32862087456734...|\n",
       "|        0|[0.33408082679276...|\n",
       "|        0|[0.33432457465997...|\n",
       "|        0|[0.33451957295373...|\n",
       "|        0|[0.33627455759762...|\n",
       "|        0|[0.33632330717106...|\n",
       "|        0|[0.33895578413688...|\n",
       "|        0|[0.34002827475259...|\n",
       "|        0|[0.34100326622142...|\n",
       "+---------+--------------------+\n",
       "only showing top 20 rows"
      ]
     },
     "execution_count": 10,
     "metadata": {},
     "output_type": "execute_result"
    }
   ],
   "source": [
    "train_data"
   ]
  },
  {
   "cell_type": "code",
   "execution_count": 11,
   "id": "4c7f1a37",
   "metadata": {
    "ExecuteTime": {
     "end_time": "2021-07-02T10:34:25.882592Z",
     "start_time": "2021-07-02T10:33:58.738270Z"
    }
   },
   "outputs": [],
   "source": [
    "model = model.fit(train_data)"
   ]
  },
  {
   "cell_type": "code",
   "execution_count": 12,
   "id": "08d40bf3",
   "metadata": {
    "ExecuteTime": {
     "end_time": "2021-07-02T10:34:26.225237Z",
     "start_time": "2021-07-02T10:34:25.884380Z"
    }
   },
   "outputs": [],
   "source": [
    "from mmlspark.lightgbm import LightGBMClassificationModel\n",
    "model.saveNativeModel(\"/lgbmclassifier.model\")\n",
    "model = LightGBMClassificationModel.loadNativeModelFromFile(\"/lgbmclassifier.model\")"
   ]
  },
  {
   "cell_type": "code",
   "execution_count": 13,
   "id": "d35cd8da",
   "metadata": {
    "ExecuteTime": {
     "end_time": "2021-07-02T10:34:29.543477Z",
     "start_time": "2021-07-02T10:34:26.226989Z"
    }
   },
   "outputs": [
    {
     "name": "stdout",
     "output_type": "stream",
     "text": [
      "f_index: Index([' Liability-Assets Flag', ' Current Liability to Equity',\n",
      "       ' Net Income Flag', ' Operating Profit Per Share (Yuan ¥)',\n",
      "       ' Net Value Per Share (C)', ' Current Ratio',\n",
      "       ' After-tax net Interest Rate', ' Cash Flow to Sales',\n",
      "       ' Net Value Per Share (A)', ' Operating profit/Paid-in capital',\n",
      "       ' Tax rate (A)', ' After-tax Net Profit Growth Rate',\n",
      "       ' Realized Sales Gross Margin', ' Liability to Equity',\n",
      "       ' Working Capital/Equity', ' Current Liability to Current Assets',\n",
      "       ' Operating Profit Growth Rate', ' Revenue Per Share (Yuan ¥)',\n",
      "       ' Net profit before tax/Paid-in capital', ' Equity to Liability',\n",
      "       ' Per Share Net profit before tax (Yuan ¥)', ' Gross Profit to Sales',\n",
      "       ' Cash flow rate', ' Current Assets/Total Assets',\n",
      "       ' Net Worth Turnover Rate (times)', ' Current Liability to Liability',\n",
      "       ' Net Income to Stockholder's Equity',\n",
      "       ' Working Capital to Total Assets', ' Cash Flow to Total Assets',\n",
      "       ' Operating Profit Rate', ' Pre-tax net Interest Rate',\n",
      "       ' Continuous interest rate (after tax)',\n",
      "       ' Contingent liabilities/Net worth', ' Debt ratio %',\n",
      "       ' Operating profit per person', ' Cash Reinvestment %',\n",
      "       ' Regular Net Profit Growth Rate', ' Cash Flow Per Share',\n",
      "       ' Operating Funds to Liability', ' Cash Flow to Equity',\n",
      "       ' ROA(A) before interest and % after tax',\n",
      "       ' Current Liabilities/Liability',\n",
      "       ' Research and development expense rate', ' No-credit Interval',\n",
      "       ' Total income/Total expense',\n",
      "       ' Inventory and accounts receivable/Net value', ' Net worth/Assets',\n",
      "       ' Degree of Financial Leverage (DFL)',\n",
      "       ' Working capitcal Turnover Rate', ' Net Income to Total Assets',\n",
      "       ' ROA(B) before interest and depreciation after tax',\n",
      "       ' Net Value Per Share (B)',\n",
      "       ' Interest Coverage Ratio (Interest expense to EBIT)',\n",
      "       ' Total debt/Total net worth',\n",
      "       ' Realized Sales Gross Profit Growth Rate', ' Cash Flow to Liability',\n",
      "       ' Borrowing dependency', ' Long-term Liability to Current Assets',\n",
      "       ' Long-term fund suitability ratio (A)',\n",
      "       ' Quick Assets/Current Liability', ' Operating Expense Rate',\n",
      "       ' Interest-bearing debt interest rate', ' Current Liability to Assets',\n",
      "       ' Total assets to GNP price', ' Average Collection Days',\n",
      "       ' Operating Gross Margin', ' Equity to Long-term Liability',\n",
      "       ' Inventory/Current Liability', ' Current Asset Turnover Rate',\n",
      "       ' Persistent EPS in the Last Four Seasons',\n",
      "       ' Accounts Receivable Turnover', ' Fixed Assets to Assets',\n",
      "       ' Allocation rate per person', ' Interest Expense Ratio',\n",
      "       ' Current Liabilities/Equity', ' Continuous Net Profit Growth Rate',\n",
      "       ' Total Asset Turnover', ' Non-industry income and expenditure/revenue',\n",
      "       ' Total expense/Assets', ' Total Asset Return Growth Rate Ratio',\n",
      "       ' CFO to Assets', ' Retained Earnings to Total Assets',\n",
      "       ' Fixed Assets Turnover Frequency', ' Net Value Growth Rate',\n",
      "       ' Revenue per person',\n",
      "       ' ROA(C) before interest and depreciation before interest',\n",
      "       ' Quick Asset Turnover Rate', ' Inventory/Working Capital',\n",
      "       ' Cash Turnover Rate', ' Quick Assets/Total Assets', ' Quick Ratio',\n",
      "       ' Cash/Current Liability', ' Cash/Total Assets',\n",
      "       ' Inventory Turnover Rate (times)', ' Total Asset Growth Rate'],\n",
      "      dtype='object')\n",
      "f_values: [ 0.  0.  0.  3.  3.  4.  5.  5.  6.  6.  6.  7.  7.  8.  8.  8. 10. 10.\n",
      " 10. 11. 11. 11. 11. 11. 11. 12. 12. 12. 13. 13. 13. 13. 13. 13. 13. 13.\n",
      " 13. 14. 14. 14. 14. 14. 15. 15. 15. 15. 15. 15. 15. 16. 16. 16. 16. 16.\n",
      " 17. 17. 17. 17. 18. 18. 18. 18. 19. 19. 19. 19. 19. 19. 20. 20. 20. 20.\n",
      " 21. 22. 22. 23. 23. 23. 23. 24. 24. 25. 25. 25. 26. 27. 27. 27. 27. 28.\n",
      " 28. 34. 47. 57. 60.]\n"
     ]
    },
    {
     "data": {
      "image/png": "[encoded data removed]",
      "text/plain": [
       "<Figure size 1440x1440 with 1 Axes>"
      ]
     },
     "metadata": {
      "needs_background": "light"
     },
     "output_type": "display_data"
    }
   ],
   "source": [
    "import pandas as pd\n",
    "import matplotlib.pyplot as plt\n",
    "\n",
    "feature_importances = model.getFeatureImportances()\n",
    "fi = pd.Series(feature_importances, index=feature_cols)\n",
    "fi = fi.sort_values(ascending=True)\n",
    "f_index = fi.index\n",
    "f_values = fi.values\n",
    " \n",
    "# print feature importances \n",
    "print('f_index:', f_index)\n",
    "print('f_values:', f_values)\n",
    "\n",
    "# plot\n",
    "x_index = list(range(len(fi)))\n",
    "x_index = [x / len(fi) for x in x_index]\n",
    "plt.rcParams['figure.figsize'] = (20,20)\n",
    "plt.barh(x_index, f_values, height=0.028 ,align=\"center\", color='tan', tick_label=f_index)\n",
    "plt.xlabel('importances')\n",
    "plt.ylabel('features')\n",
    "plt.show()"
   ]
  },
  {
   "cell_type": "code",
   "execution_count": 14,
   "id": "49cc9004",
   "metadata": {
    "ExecuteTime": {
     "end_time": "2021-07-02T10:34:29.997256Z",
     "start_time": "2021-07-02T10:34:29.545526Z"
    }
   },
   "outputs": [
    {
     "data": {
      "text/html": [
       "<div>\n",
       "<style scoped>\n",
       "    .dataframe tbody tr th:only-of-type {\n",
       "        vertical-align: middle;\n",
       "    }\n",
       "\n",
       "    .dataframe tbody tr th {\n",
       "        vertical-align: top;\n",
       "    }\n",
       "\n",
       "    .dataframe thead th {\n",
       "        text-align: right;\n",
       "    }\n",
       "</style>\n",
       "<table border=\"1\" class=\"dataframe\">\n",
       "  <thead>\n",
       "    <tr style=\"text-align: right;\">\n",
       "      <th></th>\n",
       "      <th>Bankrupt?</th>\n",
       "      <th>features</th>\n",
       "      <th>rawPrediction</th>\n",
       "      <th>probability</th>\n",
       "      <th>prediction</th>\n",
       "    </tr>\n",
       "  </thead>\n",
       "  <tbody>\n",
       "    <tr>\n",
       "      <th>0</th>\n",
       "      <td>0</td>\n",
       "      <td>[0.249305318578462, 0.259376362843437, 0.25938...</td>\n",
       "      <td>[1576.322120783564, -1576.322120783564]</td>\n",
       "      <td>[1.0, 0.0]</td>\n",
       "      <td>0.0</td>\n",
       "    </tr>\n",
       "    <tr>\n",
       "      <th>1</th>\n",
       "      <td>0</td>\n",
       "      <td>[0.306244820357822, 0.331934147405146, 0.34755...</td>\n",
       "      <td>[-1188.5304918919246, 1188.5304918919246]</td>\n",
       "      <td>[0.0, 1.0]</td>\n",
       "      <td>1.0</td>\n",
       "    </tr>\n",
       "    <tr>\n",
       "      <th>2</th>\n",
       "      <td>0</td>\n",
       "      <td>[0.339345780724419, 0.390263846489315, 0.38396...</td>\n",
       "      <td>[2042.804620989677, -2042.804620989677]</td>\n",
       "      <td>[1.0, 0.0]</td>\n",
       "      <td>0.0</td>\n",
       "    </tr>\n",
       "    <tr>\n",
       "      <th>3</th>\n",
       "      <td>0</td>\n",
       "      <td>[0.364841807634183, 0.31841474051461, 0.393115...</td>\n",
       "      <td>[611.4681006200382, -611.4681006200382]</td>\n",
       "      <td>[1.0, 2.7719030788539283e-266]</td>\n",
       "      <td>0.0</td>\n",
       "    </tr>\n",
       "    <tr>\n",
       "      <th>4</th>\n",
       "      <td>0</td>\n",
       "      <td>[0.374737971042753, 0.433111644134322, 0.40789...</td>\n",
       "      <td>[750.3080248007714, -750.3080248007714]</td>\n",
       "      <td>[1.0, 0.0]</td>\n",
       "      <td>0.0</td>\n",
       "    </tr>\n",
       "    <tr>\n",
       "      <th>5</th>\n",
       "      <td>0</td>\n",
       "      <td>[0.37581046165846, 0.453227213257741, 0.453236...</td>\n",
       "      <td>[-235.72097826324455, 235.72097826324455]</td>\n",
       "      <td>[0.0, 1.0]</td>\n",
       "      <td>1.0</td>\n",
       "    </tr>\n",
       "    <tr>\n",
       "      <th>6</th>\n",
       "      <td>0</td>\n",
       "      <td>[0.383366645541851, 0.427660270388138, 0.42132...</td>\n",
       "      <td>[903.585408543812, -903.585408543812]</td>\n",
       "      <td>[1.0, 0.0]</td>\n",
       "      <td>0.0</td>\n",
       "    </tr>\n",
       "    <tr>\n",
       "      <th>7</th>\n",
       "      <td>0</td>\n",
       "      <td>[0.386827865256179, 0.434419973833406, 0.43953...</td>\n",
       "      <td>[2072.8685224025157, -2072.8685224025157]</td>\n",
       "      <td>[1.0, 0.0]</td>\n",
       "      <td>0.0</td>\n",
       "    </tr>\n",
       "    <tr>\n",
       "      <th>8</th>\n",
       "      <td>0</td>\n",
       "      <td>[0.405547701457612, 0.450392498909725, 0.45221...</td>\n",
       "      <td>[-465.6999348620068, 465.6999348620068]</td>\n",
       "      <td>[0.0, 1.0]</td>\n",
       "      <td>1.0</td>\n",
       "    </tr>\n",
       "    <tr>\n",
       "      <th>9</th>\n",
       "      <td>0</td>\n",
       "      <td>[0.410276410081412, 0.467455298735281, 0.45741...</td>\n",
       "      <td>[-112.6408422606815, 112.6408422606815]</td>\n",
       "      <td>[0.0, 1.0]</td>\n",
       "      <td>1.0</td>\n",
       "    </tr>\n",
       "  </tbody>\n",
       "</table>\n",
       "</div>"
      ],
      "text/plain": [
       "   Bankrupt?                                           features  \\\n",
       "0          0  [0.249305318578462, 0.259376362843437, 0.25938...   \n",
       "1          0  [0.306244820357822, 0.331934147405146, 0.34755...   \n",
       "2          0  [0.339345780724419, 0.390263846489315, 0.38396...   \n",
       "3          0  [0.364841807634183, 0.31841474051461, 0.393115...   \n",
       "4          0  [0.374737971042753, 0.433111644134322, 0.40789...   \n",
       "5          0  [0.37581046165846, 0.453227213257741, 0.453236...   \n",
       "6          0  [0.383366645541851, 0.427660270388138, 0.42132...   \n",
       "7          0  [0.386827865256179, 0.434419973833406, 0.43953...   \n",
       "8          0  [0.405547701457612, 0.450392498909725, 0.45221...   \n",
       "9          0  [0.410276410081412, 0.467455298735281, 0.45741...   \n",
       "\n",
       "                               rawPrediction                     probability  \\\n",
       "0    [1576.322120783564, -1576.322120783564]                      [1.0, 0.0]   \n",
       "1  [-1188.5304918919246, 1188.5304918919246]                      [0.0, 1.0]   \n",
       "2    [2042.804620989677, -2042.804620989677]                      [1.0, 0.0]   \n",
       "3    [611.4681006200382, -611.4681006200382]  [1.0, 2.7719030788539283e-266]   \n",
       "4    [750.3080248007714, -750.3080248007714]                      [1.0, 0.0]   \n",
       "5  [-235.72097826324455, 235.72097826324455]                      [0.0, 1.0]   \n",
       "6      [903.585408543812, -903.585408543812]                      [1.0, 0.0]   \n",
       "7  [2072.8685224025157, -2072.8685224025157]                      [1.0, 0.0]   \n",
       "8    [-465.6999348620068, 465.6999348620068]                      [0.0, 1.0]   \n",
       "9    [-112.6408422606815, 112.6408422606815]                      [0.0, 1.0]   \n",
       "\n",
       "   prediction  \n",
       "0         0.0  \n",
       "1         1.0  \n",
       "2         0.0  \n",
       "3         0.0  \n",
       "4         0.0  \n",
       "5         1.0  \n",
       "6         0.0  \n",
       "7         0.0  \n",
       "8         1.0  \n",
       "9         1.0  "
      ]
     },
     "execution_count": 14,
     "metadata": {},
     "output_type": "execute_result"
    }
   ],
   "source": [
    "predictions = model.transform(test_data)\n",
    "predictions.limit(10).toPandas()"
   ]
  },
  {
   "cell_type": "code",
   "execution_count": 15,
   "id": "e55426af",
   "metadata": {
    "ExecuteTime": {
     "end_time": "2021-07-02T10:34:31.689103Z",
     "start_time": "2021-07-02T10:34:29.998841Z"
    }
   },
   "outputs": [
    {
     "data": {
      "text/html": [
       "<table border='1'>\n",
       "<tr><th>evaluation_type</th><th>confusion_matrix</th><th>accuracy</th><th>precision</th><th>recall</th><th>AUC</th></tr>\n",
       "<tr><td>Classification</td><td>942.0  83.0  \n",
       "14....</td><td>0.9088345864661654</td><td>0.23148148148148148</td><td>0.6410256410256411</td><td>0.7800250156347718</td></tr>\n",
       "</table>\n"
      ],
      "text/plain": [
       "+---------------+--------------------+------------------+-------------------+------------------+------------------+\n",
       "|evaluation_type|    confusion_matrix|          accuracy|          precision|            recall|               AUC|\n",
       "+---------------+--------------------+------------------+-------------------+------------------+------------------+\n",
       "| Classification|942.0  83.0  \n",
       "14....|0.9088345864661654|0.23148148148148148|0.6410256410256411|0.7800250156347718|\n",
       "+---------------+--------------------+------------------+-------------------+------------------+------------------+"
      ]
     },
     "metadata": {},
     "output_type": "display_data"
    }
   ],
   "source": [
    "from mmlspark.train import ComputeModelStatistics\n",
    "metrics = ComputeModelStatistics(evaluationMetric=\"classification\", labelCol='Bankrupt?', scoredLabelsCol='prediction').transform(predictions)\n",
    "display(metrics)"
   ]
  },
  {
   "cell_type": "markdown",
   "id": "907adf9d",
   "metadata": {},
   "source": [
    "# 回归"
   ]
  },
  {
   "cell_type": "markdown",
   "id": "d2176c04",
   "metadata": {},
   "source": [
    "数据获取, 在linux目录下执行以下命令\n",
    "\n",
    "!wget https://www.csie.ntu.edu.tw/~cjlin/libsvmtools/datasets/regression/triazines_scale"
   ]
  },
  {
   "cell_type": "code",
   "execution_count": 16,
   "id": "9e683f97",
   "metadata": {
    "ExecuteTime": {
     "end_time": "2021-07-02T10:34:31.816687Z",
     "start_time": "2021-07-02T10:34:31.690654Z"
    }
   },
   "outputs": [],
   "source": [
    "triazines = spark.read.format(\"libsvm\")\\\n",
    "    .load(\"../data/triazines_scale\")"
   ]
  },
  {
   "cell_type": "code",
   "execution_count": 17,
   "id": "0457fc43",
   "metadata": {
    "ExecuteTime": {
     "end_time": "2021-07-02T10:34:32.068402Z",
     "start_time": "2021-07-02T10:34:31.818519Z"
    }
   },
   "outputs": [
    {
     "name": "stdout",
     "output_type": "stream",
     "text": [
      "records read: 186\n",
      "Schema: \n",
      "root\n",
      " |-- label: double (nullable = true)\n",
      " |-- features: vector (nullable = true)\n",
      "\n"
     ]
    },
    {
     "data": {
      "text/html": [
       "<table border='1'>\n",
       "<tr><th>label</th><th>features</th></tr>\n",
       "<tr><td>0.809</td><td>(60,[0,1,2,3,4,5,...</td></tr>\n",
       "<tr><td>0.602</td><td>(60,[0,3,4,5,6,8,...</td></tr>\n",
       "<tr><td>0.442</td><td>(60,[0,1,2,3,4,5,...</td></tr>\n",
       "<tr><td>0.718</td><td>(60,[0,1,2,3,4,5,...</td></tr>\n",
       "<tr><td>0.697</td><td>(60,[0,1,2,3,4,5,...</td></tr>\n",
       "<tr><td>0.757</td><td>(60,[0,1,2,3,4,6,...</td></tr>\n",
       "<tr><td>0.9</td><td>(60,[0,1,2,3,4,6,...</td></tr>\n",
       "<tr><td>0.564</td><td>(60,[0,1,2,3,4,5,...</td></tr>\n",
       "<tr><td>0.772</td><td>(60,[0,1,2,3,4,6,...</td></tr>\n",
       "<tr><td>0.801</td><td>(60,[0,1,2,3,4,6,...</td></tr>\n",
       "</table>\n"
      ],
      "text/plain": [
       "+-----+--------------------+\n",
       "|label|            features|\n",
       "+-----+--------------------+\n",
       "|0.809|(60,[0,1,2,3,4,5,...|\n",
       "|0.602|(60,[0,3,4,5,6,8,...|\n",
       "|0.442|(60,[0,1,2,3,4,5,...|\n",
       "|0.718|(60,[0,1,2,3,4,5,...|\n",
       "|0.697|(60,[0,1,2,3,4,5,...|\n",
       "|0.757|(60,[0,1,2,3,4,6,...|\n",
       "|  0.9|(60,[0,1,2,3,4,6,...|\n",
       "|0.564|(60,[0,1,2,3,4,5,...|\n",
       "|0.772|(60,[0,1,2,3,4,6,...|\n",
       "|0.801|(60,[0,1,2,3,4,6,...|\n",
       "+-----+--------------------+"
      ]
     },
     "metadata": {},
     "output_type": "display_data"
    }
   ],
   "source": [
    "# print some basic info\n",
    "print(\"records read: \" + str(triazines.count()))\n",
    "print(\"Schema: \")\n",
    "triazines.printSchema()\n",
    "display(triazines.limit(10))"
   ]
  },
  {
   "cell_type": "code",
   "execution_count": 18,
   "id": "a380751d",
   "metadata": {
    "ExecuteTime": {
     "end_time": "2021-07-02T10:34:32.077357Z",
     "start_time": "2021-07-02T10:34:32.069992Z"
    }
   },
   "outputs": [],
   "source": [
    "train, test = triazines.randomSplit([0.85, 0.15], seed=1)"
   ]
  },
  {
   "cell_type": "code",
   "execution_count": 19,
   "id": "b73861ad",
   "metadata": {
    "ExecuteTime": {
     "end_time": "2021-07-02T10:34:32.875200Z",
     "start_time": "2021-07-02T10:34:32.078874Z"
    }
   },
   "outputs": [],
   "source": [
    "from mmlspark.lightgbm import LightGBMRegressor\n",
    "model = LightGBMRegressor(\n",
    "    objective='quantile',\n",
    "    alpha=0.2,\n",
    "    learningRate=0.3,\n",
    "    numLeaves=31\n",
    ").fit(train)"
   ]
  },
  {
   "cell_type": "code",
   "execution_count": 20,
   "id": "d4572b07",
   "metadata": {
    "ExecuteTime": {
     "end_time": "2021-07-02T10:34:32.926504Z",
     "start_time": "2021-07-02T10:34:32.877080Z"
    }
   },
   "outputs": [
    {
     "name": "stdout",
     "output_type": "stream",
     "text": [
      "[39.0, 41.0, 26.0, 0.0, 19.0, 2.0, 0.0, 9.0, 11.0, 4.0, 19.0, 0.0, 0.0, 0.0, 0.0, 0.0, 0.0, 0.0, 0.0, 0.0, 0.0, 0.0, 0.0, 0.0, 0.0, 0.0, 0.0, 0.0, 0.0, 0.0, 15.0, 52.0, 61.0, 19.0, 17.0, 36.0, 0.0, 6.0, 4.0, 29.0, 21.0, 8.0, 0.0, 0.0, 0.0, 0.0, 13.0, 0.0, 1.0, 8.0, 18.0, 4.0, 0.0, 0.0, 0.0, 0.0, 0.0, 0.0, 0.0, 1.0]\n"
     ]
    }
   ],
   "source": [
    "print(model.getFeatureImportances())"
   ]
  },
  {
   "cell_type": "code",
   "execution_count": 21,
   "id": "e4ec4444",
   "metadata": {
    "ExecuteTime": {
     "end_time": "2021-07-02T10:34:33.223702Z",
     "start_time": "2021-07-02T10:34:32.927939Z"
    }
   },
   "outputs": [
    {
     "data": {
      "text/html": [
       "<table border='1'>\n",
       "<tr><th>label</th><th>features</th><th>prediction</th></tr>\n",
       "<tr><td>0.195</td><td>(60,[0,1,2,3,4,5,...</td><td>0.2500845902448115</td></tr>\n",
       "<tr><td>0.365</td><td>(60,[0,1,2,4,5,6,...</td><td>0.5669223869439056</td></tr>\n",
       "<tr><td>0.45</td><td>(60,[0,1,2,3,4,5,...</td><td>0.7774221631611411</td></tr>\n",
       "<tr><td>0.523</td><td>(60,[0,1,2,3,4,5,...</td><td>0.6035040847600094</td></tr>\n",
       "<tr><td>0.55</td><td>(60,[0,1,2,3,4,5,...</td><td>0.5869461996456875</td></tr>\n",
       "<tr><td>0.558</td><td>(60,[0,1,2,3,4,5,...</td><td>0.5956667413651838</td></tr>\n",
       "<tr><td>0.581</td><td>(60,[0,1,2,3,4,5,...</td><td>0.29859775069061306</td></tr>\n",
       "<tr><td>0.602</td><td>(60,[0,3,4,5,6,8,...</td><td>0.45926432474617745</td></tr>\n",
       "<tr><td>0.666</td><td>(60,[0,1,2,3,4,5,...</td><td>0.6803800406519865</td></tr>\n",
       "<tr><td>0.678</td><td>(60,[0,1,2,3,4,6,...</td><td>0.5856478205569542</td></tr>\n",
       "<tr><td>0.699</td><td>(60,[0,1,2,3,4,6,...</td><td>0.5945341541734214</td></tr>\n",
       "<tr><td>0.705</td><td>(60,[0,1,2,3,4,5,...</td><td>0.6888474022521432</td></tr>\n",
       "<tr><td>0.709</td><td>(60,[0,1,2,3,4,6,...</td><td>0.6154245184107635</td></tr>\n",
       "<tr><td>0.722</td><td>(60,[0,1,2,3,4,6,...</td><td>0.611976585868158</td></tr>\n",
       "<tr><td>0.726</td><td>(60,[0,1,2,3,4,5,...</td><td>0.8089494753347881</td></tr>\n",
       "<tr><td>0.726</td><td>(60,[0,1,2,3,4,6,...</td><td>0.6363510864123434</td></tr>\n",
       "<tr><td>0.73</td><td>(60,[0,1,2,3,4,5,...</td><td>0.7054044200763655</td></tr>\n",
       "<tr><td>0.747</td><td>(60,[0,1,2,3,4,5,...</td><td>0.6365732394259986</td></tr>\n",
       "<tr><td>0.757</td><td>(60,[0,1,2,3,4,6,...</td><td>0.7300901858694104</td></tr>\n",
       "<tr><td>0.757</td><td>(60,[0,1,2,3,4,6,...</td><td>0.7300901858694104</td></tr>\n",
       "</table>\n",
       "only showing top 20 rows\n"
      ],
      "text/plain": [
       "+-----+--------------------+-------------------+\n",
       "|label|            features|         prediction|\n",
       "+-----+--------------------+-------------------+\n",
       "|0.195|(60,[0,1,2,3,4,5,...| 0.2500845902448115|\n",
       "|0.365|(60,[0,1,2,4,5,6,...| 0.5669223869439056|\n",
       "| 0.45|(60,[0,1,2,3,4,5,...| 0.7774221631611411|\n",
       "|0.523|(60,[0,1,2,3,4,5,...| 0.6035040847600094|\n",
       "| 0.55|(60,[0,1,2,3,4,5,...| 0.5869461996456875|\n",
       "|0.558|(60,[0,1,2,3,4,5,...| 0.5956667413651838|\n",
       "|0.581|(60,[0,1,2,3,4,5,...|0.29859775069061306|\n",
       "|0.602|(60,[0,3,4,5,6,8,...|0.45926432474617745|\n",
       "|0.666|(60,[0,1,2,3,4,5,...| 0.6803800406519865|\n",
       "|0.678|(60,[0,1,2,3,4,6,...| 0.5856478205569542|\n",
       "|0.699|(60,[0,1,2,3,4,6,...| 0.5945341541734214|\n",
       "|0.705|(60,[0,1,2,3,4,5,...| 0.6888474022521432|\n",
       "|0.709|(60,[0,1,2,3,4,6,...| 0.6154245184107635|\n",
       "|0.722|(60,[0,1,2,3,4,6,...|  0.611976585868158|\n",
       "|0.726|(60,[0,1,2,3,4,5,...| 0.8089494753347881|\n",
       "|0.726|(60,[0,1,2,3,4,6,...| 0.6363510864123434|\n",
       "| 0.73|(60,[0,1,2,3,4,5,...| 0.7054044200763655|\n",
       "|0.747|(60,[0,1,2,3,4,5,...| 0.6365732394259986|\n",
       "|0.757|(60,[0,1,2,3,4,6,...| 0.7300901858694104|\n",
       "|0.757|(60,[0,1,2,3,4,6,...| 0.7300901858694104|\n",
       "+-----+--------------------+-------------------+\n",
       "only showing top 20 rows"
      ]
     },
     "metadata": {},
     "output_type": "display_data"
    }
   ],
   "source": [
    "scoredData = model.transform(test)\n",
    "display(scoredData)"
   ]
  },
  {
   "cell_type": "code",
   "execution_count": 22,
   "id": "3a955568",
   "metadata": {
    "ExecuteTime": {
     "end_time": "2021-07-02T10:34:33.455972Z",
     "start_time": "2021-07-02T10:34:33.225247Z"
    }
   },
   "outputs": [
    {
     "data": {
      "text/html": [
       "<table border='1'>\n",
       "<tr><th>mean_squared_error</th><th>root_mean_squared_error</th><th>R^2</th><th>mean_absolute_error</th></tr>\n",
       "<tr><td>0.017162040529625295</td><td>0.13100397142692008</td><td>0.19122995105948137</td><td>0.10537563246978685</td></tr>\n",
       "</table>\n"
      ],
      "text/plain": [
       "+--------------------+-----------------------+-------------------+-------------------+\n",
       "|  mean_squared_error|root_mean_squared_error|                R^2|mean_absolute_error|\n",
       "+--------------------+-----------------------+-------------------+-------------------+\n",
       "|0.017162040529625295|    0.13100397142692008|0.19122995105948137|0.10537563246978685|\n",
       "+--------------------+-----------------------+-------------------+-------------------+"
      ]
     },
     "metadata": {},
     "output_type": "display_data"
    }
   ],
   "source": [
    "from mmlspark.train import ComputeModelStatistics\n",
    "metrics = ComputeModelStatistics(\n",
    "    evaluationMetric='regression',\n",
    "    labelCol='label',\n",
    "    scoresCol='prediction'\n",
    ").transform(scoredData)\n",
    "display(metrics)"
   ]
  },
  {
   "cell_type": "markdown",
   "id": "73ef32c6",
   "metadata": {},
   "source": [
    "# LightGBM Ranker"
   ]
  },
  {
   "cell_type": "code",
   "execution_count": 23,
   "id": "90c14a9c",
   "metadata": {
    "ExecuteTime": {
     "end_time": "2021-07-02T10:34:33.460863Z",
     "start_time": "2021-07-02T10:34:33.458830Z"
    }
   },
   "outputs": [],
   "source": [
    "\n",
    "# df = spark.read.format(\"parquet\").load(\"wasbs://publicwasb@mmlspark.blob.core.windows.net/lightGBMRanker_train.parquet\")\n",
    "# # print some basic info\n",
    "# print(\"records read: \" + str(df.count()))\n",
    "# print(\"Schema: \")\n",
    "# df.printSchema()\n",
    "# display(df.limit(10))"
   ]
  },
  {
   "cell_type": "code",
   "execution_count": 24,
   "id": "ed60064f",
   "metadata": {
    "ExecuteTime": {
     "end_time": "2021-07-02T10:34:33.520852Z",
     "start_time": "2021-07-02T10:34:33.462428Z"
    }
   },
   "outputs": [],
   "source": [
    "# from mmlspark.lightgbm import LightGBMRanker\n",
    "\n",
    "# features_col = 'features'\n",
    "# query_col = 'query'\n",
    "# label_col = 'labels'\n",
    "# lgbm_ranker = LightGBMRanker(labelCol=label_col,\n",
    "#                              featuresCol=features_col,\n",
    "#                              groupCol=query_col,\n",
    "#                              predictionCol='preds',\n",
    "#                              leafPredictionCol='leafPreds',\n",
    "#                              featuresShapCol='importances',\n",
    "#                              repartitionByGroupingColumn=True,\n",
    "#                              numLeaves=32,\n",
    "#                              numIterations=200,\n",
    "#                              evalAt=[1,3,5],\n",
    "#                              metric='ndcg')"
   ]
  },
  {
   "cell_type": "code",
   "execution_count": 25,
   "id": "943dfc8b",
   "metadata": {
    "ExecuteTime": {
     "end_time": "2021-07-02T10:34:33.558642Z",
     "start_time": "2021-07-02T10:34:33.522599Z"
    }
   },
   "outputs": [],
   "source": [
    "# lgbm_ranker_model = lgbm_ranker.fit(df)"
   ]
  },
  {
   "cell_type": "code",
   "execution_count": 26,
   "id": "23ee71e3",
   "metadata": {
    "ExecuteTime": {
     "end_time": "2021-07-02T10:34:33.591979Z",
     "start_time": "2021-07-02T10:34:33.560162Z"
    }
   },
   "outputs": [],
   "source": [
    "# dt = spark.read.format(\"parquet\").load(\"wasbs://publicwasb@mmlspark.blob.core.windows.net/lightGBMRanker_test.parquet\")\n",
    "# predictions = lgbm_ranker_model.transform(dt)\n",
    "# predictions.limit(10).toPandas()"
   ]
  }
 ],
 "metadata": {
  "kernelspec": {
   "display_name": "Python 3",
   "language": "python",
   "name": "python3"
  },
  "language_info": {
   "codemirror_mode": {
    "name": "ipython",
    "version": 3
   },
   "file_extension": ".py",
   "mimetype": "text/x-python",
   "name": "python",
   "nbconvert_exporter": "python",
   "pygments_lexer": "ipython3",
   "version": "3.6.6"
  },
  "toc": {
   "base_numbering": 1,
   "nav_menu": {},
   "number_sections": true,
   "sideBar": true,
   "skip_h1_title": false,
   "title_cell": "Table of Contents",
   "title_sidebar": "Contents",
   "toc_cell": false,
   "toc_position": {},
   "toc_section_display": true,
   "toc_window_display": false
  }
 },
 "nbformat": 4,
 "nbformat_minor": 5
}
